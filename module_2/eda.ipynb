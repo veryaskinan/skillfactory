{
 "cells": [
  {
   "cell_type": "markdown",
   "metadata": {
    "colab_type": "text",
    "id": "NRQcc-Jbi1S7",
    "pycharm": {
     "name": "#%% md\n"
    }
   },
   "source": [
    "Импортируем необходимые библиотеки, и делаем некоторые предустановки."
   ]
  },
  {
   "cell_type": "code",
   "execution_count": 1,
   "metadata": {
    "colab": {},
    "colab_type": "code",
    "id": "FRdBis-Si1S9"
   },
   "outputs": [
    {
     "ename": "ImportError",
     "evalue": "No module named matplotlib",
     "output_type": "error",
     "traceback": [
      "\u001b[0;31m---------------------------------------------------------------------------\u001b[0m",
      "\u001b[0;31mImportError\u001b[0m                               Traceback (most recent call last)",
      "\u001b[0;32m<ipython-input-1-518a6205ab2d>\u001b[0m in \u001b[0;36m<module>\u001b[0;34m()\u001b[0m\n\u001b[1;32m      2\u001b[0m \u001b[0;32mimport\u001b[0m \u001b[0mpandas\u001b[0m \u001b[0;32mas\u001b[0m \u001b[0mpd\u001b[0m\u001b[0;34m\u001b[0m\u001b[0m\n\u001b[1;32m      3\u001b[0m \u001b[0;32mfrom\u001b[0m \u001b[0mIPython\u001b[0m\u001b[0;34m.\u001b[0m\u001b[0mcore\u001b[0m\u001b[0;34m.\u001b[0m\u001b[0mdisplay\u001b[0m \u001b[0;32mimport\u001b[0m \u001b[0mdisplay\u001b[0m\u001b[0;34m\u001b[0m\u001b[0m\n\u001b[0;32m----> 4\u001b[0;31m \u001b[0;32mimport\u001b[0m \u001b[0mmatplotlib\u001b[0m\u001b[0;34m\u001b[0m\u001b[0m\n\u001b[0m\u001b[1;32m      5\u001b[0m \u001b[0;32mimport\u001b[0m \u001b[0mmatplotlib\u001b[0m\u001b[0;34m.\u001b[0m\u001b[0mpyplot\u001b[0m \u001b[0;32mas\u001b[0m \u001b[0mplt\u001b[0m\u001b[0;34m\u001b[0m\u001b[0m\n\u001b[1;32m      6\u001b[0m \u001b[0;32mimport\u001b[0m \u001b[0mseaborn\u001b[0m \u001b[0;32mas\u001b[0m \u001b[0msns\u001b[0m\u001b[0;34m\u001b[0m\u001b[0m\n",
      "\u001b[0;31mImportError\u001b[0m: No module named matplotlib"
     ]
    }
   ],
   "source": [
    "import numpy as np\n",
    "import pandas as pd\n",
    "from IPython.core.display import display\n",
    "import matplotlib\n",
    "import matplotlib.pyplot as plt\n",
    "import seaborn as sns\n",
    "import math\n",
    "from IPython.display import Javascript\n",
    "from itertools import combinations\n",
    "from scipy.stats import ttest_ind\n",
    "\n",
    "sns.set(style=\"whitegrid\")\n",
    "pd.set_option('display.max_rows', 50) # показывать больше строк\n",
    "pd.set_option('display.max_columns', 50) # показывать больше колонок"
   ]
  },
  {
   "cell_type": "markdown",
   "metadata": {
    "colab_type": "text",
    "id": "1Ch17fTDi1TC"
   },
   "source": [
    "## Общий обзор\n",
    "Читаем файл, выводим датасет."
   ]
  },
  {
   "cell_type": "code",
   "execution_count": null,
   "metadata": {
    "colab": {
     "base_uri": "https://localhost:8080/",
     "height": 396
    },
    "colab_type": "code",
    "id": "9Sr42tDXi1TC",
    "outputId": "ece54186-6c15-4ecf-fefa-bd38a14565c7",
    "pycharm": {
     "name": "#%%\n"
    }
   },
   "outputs": [],
   "source": [
    "df = pd.read_csv('stud_math.csv')\n",
    "df.head(10)\n"
   ]
  },
  {
   "cell_type": "markdown",
   "metadata": {
    "colab_type": "text",
    "id": "wSU8ndRoi1TI",
    "pycharm": {
     "name": "#%% md\n"
    }
   },
   "source": [
    "У нас в распоряжении данные о 395 учениках. С первого взгляда видим, что некоторые поля содержат пустые значения.\n",
    "И кажется еще кое-что.\n",
    "Посмотрим информацию о колонках."
   ]
  },
  {
   "cell_type": "code",
   "execution_count": null,
   "metadata": {
    "colab": {
     "base_uri": "https://localhost:8080/",
     "height": 683
    },
    "colab_type": "code",
    "id": "Sy3zR42Ti1TJ",
    "outputId": "35ca0e3d-d948-4c1f-e6c1-33c8b6861d11",
    "pycharm": {
     "name": "#%%\n"
    },
    "tags": []
   },
   "outputs": [],
   "source": [
    "df.info()"
   ]
  },
  {
   "cell_type": "markdown",
   "metadata": {
    "colab_type": "text",
    "id": "B26b_YHIi1TN",
    "pycharm": {
     "name": "#%% md\n"
    }
   },
   "source": [
    "Приведем все названия колонок в нижний регистр."
   ]
  },
  {
   "cell_type": "code",
   "execution_count": null,
   "metadata": {
    "colab": {},
    "colab_type": "code",
    "id": "FPzhYmLCi1TO",
    "pycharm": {
     "name": "#%%\n"
    }
   },
   "outputs": [],
   "source": [
    "df.columns = map(str.lower, df.columns)"
   ]
  },
  {
   "cell_type": "code",
   "execution_count": null,
   "metadata": {
    "colab": {
     "base_uri": "https://localhost:8080/",
     "height": 683
    },
    "colab_type": "code",
    "id": "YMj7lhJai1TS",
    "outputId": "e4669569-c7b7-438c-88ff-00d80761c5b6",
    "pycharm": {
     "name": "#%%\n"
    },
    "tags": []
   },
   "outputs": [],
   "source": [
    "df.info()\n"
   ]
  },
  {
   "cell_type": "markdown",
   "metadata": {
    "colab_type": "text",
    "id": "mjzZKEE-i1TW"
   },
   "source": [
    "Наблюдается два интересных момента.\n",
    "1. Колонок в нашем датасете 30, в то время как в описании датасета - 29. Видим отсутствующую в описании колонку \"studytime, granular\", в которой 388 ненулевых значений, так же как и в колонке \"studytime\". Совпадают ли данные в этих колонках? Выясним позже а пока возьмем на заметку.\n",
    "2. Не все колонки числового типа отражают абсолютный колчиственный показатель. Например, такие колонки как Medu, Fedu - упрощенное представление об уровне образования."
   ]
  },
  {
   "cell_type": "markdown",
   "metadata": {
    "colab_type": "text",
    "id": "ET9ADQhwi1TX"
   },
   "source": [
    "## Рассмотрим все столбцы"
   ]
  },
  {
   "cell_type": "markdown",
   "metadata": {
    "colab_type": "text",
    "id": "GrW79CCrncBy"
   },
   "source": [
    "Составим словарь допустимых значений для \"номинативных\" столбцов. Он понадобится нам для отображения информации на графиках.\n",
    "\n",
    "\"Номинативных\" написано в кавычках, потому что, как упомяналось ранее, некторые числовые столбцы не отражают количественный показатель, и такие столбцы в принципе можно считать номинативными"
   ]
  },
  {
   "cell_type": "code",
   "execution_count": null,
   "metadata": {
    "colab": {},
    "colab_type": "code",
    "id": "ciGrfol3pccr"
   },
   "outputs": [],
   "source": [
    "rules = {\n",
    "    \"sex\": {\n",
    "        \"title\": \"пол\",\n",
    "        \"values\": {\n",
    "          \"F\": 'девушки',\n",
    "          \"M\": \"юноши\"   \n",
    "        }\n",
    "    },\n",
    "    \"address\": {\n",
    "        \"title\": \"адрес\",\n",
    "        \"values\": {\n",
    "          \"U\": \"город\",\n",
    "          \"R\": \"за городом\"   \n",
    "        }\n",
    "    },\n",
    "    \"famsize\": {\n",
    "        \"title\": \"размер семьи\",\n",
    "        \"values\": {\n",
    "          \"LE3\": \"<= 3\",\n",
    "          \"GT3\": \"> 3\"\n",
    "        }\n",
    "    },\n",
    "    \"pstatus\": {\n",
    "        \"title\": \"родители вместе?\",\n",
    "        \"values\": {\n",
    "          \"T\": \"вместе\",\n",
    "          \"A\": \"раздельно\"\n",
    "        }\n",
    "    },\n",
    "    \"medu\": {\n",
    "        \"title\": \"образование матери\",\n",
    "        \"values\": {\n",
    "          \"0.0\": \"0) нет\",\n",
    "          \"1.0\": \"1) 4 кл\",\n",
    "          \"2.0\": \"2) 5-9 кл\",\n",
    "          \"3.0\": \"3) 11 кл / ср.сп.\",\n",
    "          \"4.0\": \"4) высшее\",\n",
    "        }\n",
    "    },\n",
    "    \"fedu\": {\n",
    "        \"title\": \"образование отца\",\n",
    "        \"values\": {\n",
    "          \"0.0\": \"0) нет\",\n",
    "          \"1.0\": \"1) 4 кл\",\n",
    "          \"2.0\": \"2) 5-9 кл\",\n",
    "          \"3.0\": \"3) 11 кл / ср.сп.\",\n",
    "          \"4.0\": \"4) высшее\",\n",
    "        }\n",
    "    },\n",
    "    \"fjob\": {\n",
    "        \"title\": \"работа отца\",\n",
    "        \"values\": {\n",
    "          \"teacher\": \"учитель\",\n",
    "          \"health\": \"здравохранение\",\n",
    "          \"services\": \"гос.служба\",\n",
    "          \"at_home\": \"не работает\",\n",
    "          \"other\": \".другое\",\n",
    "        }\n",
    "    },\n",
    "    \"mjob\": {\n",
    "        \"title\": \"работа матери\",\n",
    "        \"values\": {\n",
    "          \"teacher\": \"учитель\",\n",
    "          \"health\": \"здравохранение\",\n",
    "          \"services\": \"гос.служба\",\n",
    "          \"at_home\": \"не работает\",\n",
    "          \"other\": \".другое\",\n",
    "        }\n",
    "    },\n",
    "    \"reason\": {\n",
    "        \"title\": \"причина выбора школы\",\n",
    "        \"values\": {\n",
    "          \"home\": \"близость к дому\",\n",
    "          \"reputation\": \"репутация\",\n",
    "          \"course\": \"об. программа\",\n",
    "          \"other\": \".другое\",\n",
    "        }\n",
    "    },\n",
    "    \"guardian\": {\n",
    "        \"title\": \"опекун\",\n",
    "        \"values\": {\n",
    "          \"mother\": \"мать\",\n",
    "          \"father\": \"отец\",\n",
    "          \"other\": \"другое\",\n",
    "        }\n",
    "    },\n",
    "    \"traveltime\": {\n",
    "        \"title\": \"время до школы (мин)\",\n",
    "        \"values\": {\n",
    "          \"1.0\": \"1) < 15\",\n",
    "          \"2.0\": \"2) 15-30\",\n",
    "          \"3.0\": \"3) 30-60\",\n",
    "          \"4.0\": \"4) > 60\",\n",
    "        }\n",
    "    },\n",
    "    \"studytime\": {\n",
    "        \"title\": \"время учебы вне школы (ч)\",\n",
    "        \"values\": {\n",
    "          \"1.0\": \"1) < 2\",\n",
    "          \"2.0\": \"2) 2-5\",\n",
    "          \"3.0\": \"3) 5-10\",\n",
    "          \"4.0\": \"4) > 10\",\n",
    "        }\n",
    "    },\n",
    "    \"studytime, granular\": {\n",
    "        \"title\": \"время учебы вне школы (ч) g\",\n",
    "        \"values\": {\n",
    "          \"1.0\": \"1) < 2\",\n",
    "          \"2.0\": \"2) 2-5\",\n",
    "          \"3.0\": \"3) 5-10\",\n",
    "          \"4.0\": \"4) > 10\",\n",
    "        }\n",
    "    },\n",
    "    \"failures\": {\n",
    "        \"title\": \"внеучебные неудачи\",\n",
    "        \"values\": {\n",
    "          \"1.0\": \"1\",\n",
    "          \"2.0\": \"2\",\n",
    "          \"3.0\": \"3\",\n",
    "          \"0.0\": \"другое\",}\n",
    "    },\n",
    "    \"schoolsup\": {\n",
    "        \"title\": \"доп. обр. поддержка\",\n",
    "        \"values\": {\n",
    "          \"yes\": \"да\",\n",
    "          \"no\": \"нет\"\n",
    "        }\n",
    "    },\n",
    "    \"famsup\": {\n",
    "        \"title\": \"семейная обр. поддержка\",\n",
    "        \"values\": {\n",
    "          \"yes\": \"да\",\n",
    "          \"no\": \"нет\"\n",
    "        }\n",
    "    },\n",
    "    \"paid\": {\n",
    "        \"title\": \"доп. платная математика\",\n",
    "        \"values\": {\n",
    "          \"yes\": \"да\",\n",
    "          \"no\": \"нет\"\n",
    "        }\n",
    "    },\n",
    "    \"activities\": {\n",
    "        \"title\": \"доп. внеучебные занятия\",\n",
    "        \"values\": {\n",
    "          \"yes\": \"да\",\n",
    "          \"no\": \"нет\"\n",
    "        }\n",
    "    },\n",
    "    \"nursery\": {\n",
    "        \"title\": \"дет. сад\",\n",
    "        \"values\": {\n",
    "          \"yes\": \"да\",\n",
    "          \"no\": \"нет\"\n",
    "        }\n",
    "    },\n",
    "    \"higher\": {\n",
    "        \"title\": \"вышку хочет?\",\n",
    "        \"values\": {\n",
    "          \"yes\": \"да\",\n",
    "          \"no\": \"нет\"\n",
    "        }\n",
    "    },\n",
    "    \"internet\": {\n",
    "        \"title\": \"интернет есть?\",\n",
    "        \"values\": {\n",
    "          \"yes\": \"да\",\n",
    "          \"no\": \"нет\"\n",
    "        }\n",
    "    },\n",
    "    \"romantic\": {\n",
    "        \"title\": \"отношения\",\n",
    "        \"values\": {\n",
    "          \"yes\": \"да\",\n",
    "          \"no\": \"нет\"\n",
    "        }\n",
    "    },\n",
    "    \"famrel\": {\n",
    "        \"title\": \"семейные отношения\",\n",
    "        \"values\": {\n",
    "          \"1.0\": \"1) ужасные\",\n",
    "          \"2.0\": \"2) плохие\",\n",
    "          \"3.0\": \"3) норм\",\n",
    "          \"4.0\": \"4) хорошие\",\n",
    "          \"5.0\": \"5) прекрасные\",\n",
    "        }\n",
    "    },\n",
    "    \"freetime\": {\n",
    "        \"title\": \"свобода\",\n",
    "        \"values\": {\n",
    "          \"1.0\": \"1) оч мало\",\n",
    "          \"2.0\": \"2) мало\",\n",
    "          \"3.0\": \"3) норм\",\n",
    "          \"4.0\": \"4) много\",\n",
    "          \"5.0\": \"5) оч много\",\n",
    "        }\n",
    "    },\n",
    "    \"goout\": {\n",
    "        \"title\": \"время с друзьями\",\n",
    "        \"values\": {\n",
    "          \"1.0\": \"1) оч мало\",\n",
    "          \"2.0\": \"2) мало\",\n",
    "          \"3.0\": \"3) норм\",\n",
    "          \"4.0\": \"4) много\",\n",
    "          \"5.0\": \"5) оч много\",\n",
    "        }\n",
    "    },\n",
    "    \"health\": {\n",
    "        \"title\": \"здоровье\",\n",
    "        \"values\": {\n",
    "          \"1.0\": \"1) ужасное\",\n",
    "          \"2.0\": \"2) плохое\",\n",
    "          \"3.0\": \"3) норм\",\n",
    "          \"4.0\": \"4) хорошее\",\n",
    "          \"5.0\": \"5) прекрасное\",\n",
    "        }\n",
    "    }\n",
    "}"
   ]
  },
  {
   "cell_type": "markdown",
   "metadata": {
    "colab_type": "text",
    "id": "NgsBwnrPJhn3"
   },
   "source": [
    "Заменим значения в \"номинативных\" столбцах, чтобы лучше понимать диаграммы.Также заменим пустые значения, чтобы отобразить их на диаграммах. Возьмем -2 вкачестве пустого значение для числовых столбцов."
   ]
  },
  {
   "cell_type": "code",
   "execution_count": null,
   "metadata": {
    "colab": {},
    "colab_type": "code",
    "id": "jzIZKkTuLXsZ"
   },
   "outputs": [],
   "source": [
    "def change_column_type(name, type):\n",
    "  if name in list(rules.keys()):\n",
    "    if type in ['float64', 'int64']:\n",
    "      df[name] = df[name].astype(str)\n",
    "\n",
    "def smart_value(name, value):\n",
    "  if name in list(rules.keys()):\n",
    "    if value in list(rules[name]['values'].keys()):\n",
    "      return rules[name]['values'][value]\n",
    "  return value\n",
    "  \n",
    "def empty_value(type, value):\n",
    "  if type == 'object':\n",
    "    return '-'\n",
    "  elif type in ['float64', 'int64']:\n",
    "    return -2\n",
    "\n",
    "def change_value(name, type, value):\n",
    "  if value != value or value == 'nan':\n",
    "    return empty_value(type, value)\n",
    "  else:\n",
    "    return smart_value(name, value)\n",
    "\n",
    "\n",
    "for column_name in df:\n",
    "  change_column_type(column_name, df[column_name].dtype)\n",
    "  df[column_name] = df[column_name].map(\n",
    "      lambda value: change_value(column_name, df[column_name].dtype, value)\n",
    "  )"
   ]
  },
  {
   "cell_type": "markdown",
   "metadata": {
    "colab_type": "text",
    "id": "fa53hlyJmv7N"
   },
   "source": [
    "Поскольку в датасете не много данных, и даже в числовых столбцах кол-во уникальных значений не сильно велико, то можно построить для всех столцов столбчатые диаграммы и посмотреть на распределение по признакам."
   ]
  },
  {
   "cell_type": "code",
   "execution_count": null,
   "metadata": {
    "colab": {
     "base_uri": "https://localhost:8080/",
     "height": 3437
    },
    "colab_type": "code",
    "id": "mSPQdUDvtqAm",
    "outputId": "a8d90dce-48f9-4346-94e5-150722568bcf"
   },
   "outputs": [],
   "source": [
    "def explore(df, columns, inrow = 4, percent = True):\n",
    "  fig, axes = plt.subplots(\n",
    "    math.ceil(len(columns)/inrow), \n",
    "    inrow, \n",
    "    figsize=(24, math.ceil(len(columns)/inrow) * 4)\n",
    "  )\n",
    "\n",
    "  for column in columns:\n",
    "    if len(columns) > len(columns) / inrow:\n",
    "      ax = axes[\n",
    "        int(math.floor(columns.index(column) + 1) / inrow - 0.00000001),\n",
    "        int(columns.index(column) % inrow)\n",
    "      ]\n",
    "    else:\n",
    "      ax = axes[int(math.floor(columns.index(column) + 1) / inrow - 0.00000001)]\n",
    "\n",
    "    df.sort_values(by = [column], inplace = True)\n",
    "    countplot = sns.countplot(data = df, x = column, ax = ax)\n",
    "  \n",
    "    countplot.set(\n",
    "      ylim=(0, len(df)),\n",
    "      xlabel = rules[column]['title'] if column in list(rules.keys()) else column, \n",
    "      ylabel=''\n",
    "    )\n",
    "  \n",
    "    for p in countplot.patches:\n",
    "        x=p.get_bbox().get_points()[:,0]\n",
    "        y=p.get_bbox().get_points()[1,1]\n",
    "        countplot.annotate(\n",
    "            f'{int(y)} {f\"({int(round(100*y/len(df), 0))}%)\" if percent else \"\"}', \n",
    "            (x.mean(), y), \n",
    "            ha ='center', \n",
    "            va='bottom'\n",
    "        )\n",
    "  \n",
    "  fig.tight_layout() \n",
    "  fig.show()\n",
    "\n",
    "explore(df, ['school', 'sex', 'address', 'famsize', 'pstatus', \n",
    "  'guardian', 'schoolsup', 'famsup', 'paid', 'activities', 'nursery', \n",
    "  'higher', 'internet', 'romantic'], 6)\n",
    "\n",
    "explore(df, ['age', 'medu', 'fedu', 'mjob', 'fjob', 'reason', \n",
    "  'traveltime', 'studytime', \"studytime, granular\", 'failures', 'famrel', 'freetime', \n",
    "  'goout', 'health'], 2)\n",
    "\n",
    "explore(df, ['absences', 'score'], 1, percent = False)"
   ]
  },
  {
   "cell_type": "markdown",
   "metadata": {
    "colab_type": "text",
    "id": "8YutCXFbAYAb"
   },
   "source": [
    "Стобчатые диаграммы наглядно показывают нам распределение учеников по признакам и по количественным показателям. Например мы видим что в нашей выборке больше информации об учениках школы GP, что большинство учеников живут в городе, большинство хотят получить высшее образование, девушек и юношей примерно одинаково. Детально описывать каждый столбец не имеет смысла. Мы видим, что во многих столбцах есть пустые значения. Видим потенциальные выбросы в столбцах \"возраст\", \"образование матери\", \"образование отца\", \"семейные отношения\". Совсем непонятный столбец \"количество внеучебных неудач\", мало того непонятно, что он означает, так и не понятно значение 0 - это меньше 1 или больше 3. \n",
    "\n",
    "Видим что распределение значений в столбце studytime, granular такое же как и в столбце studytime, но при этом сами значения отличаются. Будем считать что между ними есть однозначное соответствие и не будем рассматривать этот столбец отдельно. И даже удалим его чтобы не мешался.\n",
    "\n",
    "Есть несколько интересных моментов. \n",
    "\n",
    "Значение 40 в столбце \"образования отца\". Скорее всего это опечатка и там должно быть 4. Заменим.\n",
    "\n",
    "Значение -1 в столбце \"семейные отношения\". Скоре всего это опечатка и там должно быть 1. Заменим.\n",
    "\n",
    "Столбец \"пропущенные занятия\" выглядит интересно: четных чисел  гораздо больше, чем нечетных, вероятно занятия проходят парами. Один ученик пропустил 385 занятий, вероятно он не посещал занятия вообще никогда."
   ]
  },
  {
   "cell_type": "code",
   "execution_count": null,
   "metadata": {
    "colab": {},
    "colab_type": "code",
    "id": "-qJA_w0vPZmJ"
   },
   "outputs": [],
   "source": [
    "del df[\"studytime, granular\"]\n"
   ]
  },
  {
   "cell_type": "code",
   "execution_count": null,
   "metadata": {
    "colab": {
     "base_uri": "https://localhost:8080/",
     "height": 107
    },
    "colab_type": "code",
    "id": "qM11SXXBc_Rx",
    "outputId": "84a67b6d-3351-438e-aec5-0526c3df2b9c",
    "tags": []
   },
   "outputs": [],
   "source": [
    "df['fedu'][df['fedu'] == '40.0'] = rules['fedu']['values']['4.0']"
   ]
  },
  {
   "cell_type": "code",
   "execution_count": null,
   "metadata": {
    "colab": {
     "base_uri": "https://localhost:8080/",
     "height": 107
    },
    "colab_type": "code",
    "id": "_HevsRqTd_ww",
    "outputId": "ca2fa0b8-983a-4415-c68c-667095b5674f",
    "tags": []
   },
   "outputs": [],
   "source": [
    "df['famrel'][df['famrel'] == '-1.0'] = rules['famrel']['values']['1.0']"
   ]
  },
  {
   "cell_type": "markdown",
   "metadata": {
    "colab_type": "text",
    "id": "07oYrIcwEsNA"
   },
   "source": [
    "## Выбросы\n",
    "\n",
    "Давайте найдем выбросы в числовых столбцах пользуясь формулой интерквартильного расстояния."
   ]
  },
  {
   "cell_type": "code",
   "execution_count": null,
   "metadata": {
    "colab": {
     "base_uri": "https://localhost:8080/",
     "height": 0
    },
    "colab_type": "code",
    "id": "VHUM2DlbFFyZ",
    "outputId": "8f72b504-18d3-46ad-dade-6ce11f07d973",
    "tags": []
   },
   "outputs": [],
   "source": [
    "def show_outliners():\n",
    "  for column_name in df:\n",
    "    column = df[column_name]\n",
    "    if column.dtype in ['int64', 'float64']:\n",
    "      IQR = column.quantile(0.75) - column.quantile(0.25)\n",
    "      outliners = {\n",
    "        \"left\": column.quantile(0.25) - 1.5 * IQR, \n",
    "        \"right\": column.quantile(0.75) + 1.5 * IQR\n",
    "      }\n",
    "      print(column_name, outliners)\n",
    "\n",
    "    \n",
    "show_outliners()"
   ]
  },
  {
   "cell_type": "markdown",
   "metadata": {
    "colab_type": "text",
    "id": "knGb4IzCSYmu"
   },
   "source": [
    "Подобный подход предлагает считать выбросами возраста старше 21. Думаю, сюда же можно включить и 20. Слишком уж мало учеников с таким возрастом, чтобы полагаться на эти значения.\n",
    "\n",
    "Со значениями выбросов для пропусков пожалуй согласимся.\n",
    "\n",
    "Выбросов в oценках как видим нет.\n",
    "\n",
    "Объединим все все возроста от 20 лет в один и будет считать что это 20 лет и страше.\n",
    "\n",
    "Удалим в столбце пропуски значение более 200 а значение более 20 объединим в одно и будем считать что это 20 и более."
   ]
  },
  {
   "cell_type": "code",
   "execution_count": null,
   "metadata": {
    "colab": {
     "base_uri": "https://localhost:8080/",
     "height": 0
    },
    "colab_type": "code",
    "id": "-XIG7HC6UXfF",
    "outputId": "c4d6090e-6ff7-4f3b-a422-312c4bfcb4bf",
    "tags": []
   },
   "outputs": [],
   "source": [
    "df['age'][df['age'] >= 20] = 20"
   ]
  },
  {
   "cell_type": "code",
   "execution_count": null,
   "metadata": {
    "colab": {
     "base_uri": "https://localhost:8080/",
     "height": 0
    },
    "colab_type": "code",
    "id": "lWTjl1Ijgs70",
    "outputId": "a2b5494e-80ee-44f3-b6e4-b06d1974ad9c",
    "tags": []
   },
   "outputs": [],
   "source": [
    "df[\"absences\"][df[\"absences\"] > 200] = -2"
   ]
  },
  {
   "cell_type": "code",
   "execution_count": null,
   "metadata": {
    "colab": {
     "base_uri": "https://localhost:8080/",
     "height": 0
    },
    "colab_type": "code",
    "id": "Q4J9YTc1hBnK",
    "outputId": "169426c2-2a76-4c35-de0f-c186d06e3e52",
    "tags": []
   },
   "outputs": [],
   "source": [
    "df[\"absences\"][df[\"absences\"] > 20] = 20"
   ]
  },
  {
   "cell_type": "markdown",
   "metadata": {
    "colab_type": "text",
    "id": "mY2fsEewjS2y"
   },
   "source": [
    "# Корреляция"
   ]
  },
  {
   "cell_type": "markdown",
   "metadata": {
    "colab_type": "text",
    "id": "bGSsXQxelV2R"
   },
   "source": [
    "Посмотрим корреляцию числовых значений на графиках."
   ]
  },
  {
   "cell_type": "code",
   "execution_count": null,
   "metadata": {
    "colab": {
     "base_uri": "https://localhost:8080/",
     "height": 585
    },
    "colab_type": "code",
    "id": "RZeUjHQyjYsn",
    "outputId": "ad0ddccb-bbab-4513-ff6b-0c355c2f24ce"
   },
   "outputs": [],
   "source": [
    "sns.pairplot(df, kind = 'reg')"
   ]
  },
  {
   "cell_type": "markdown",
   "metadata": {
    "colab_type": "text",
    "id": "G_9L57TUldtw"
   },
   "source": [
    "Видим корреляцию с возрастом. Так же наблюдаем небольшую и странную корреляцию с пропусками занятий. Получается, те, кто пропускал больше, сдают экзамен лучше. Почему так? Заметим что среди оценок есть 0. Вероятно это те ученики, кто не пришел на экзамен. Удалим такие записи из нашего датафрейма, поскольку это не правильно учитывать их в анализе результатов экзамена."
   ]
  },
  {
   "cell_type": "code",
   "execution_count": null,
   "metadata": {
    "colab": {},
    "colab_type": "code",
    "id": "7N9AXNiIrSVK"
   },
   "outputs": [],
   "source": [
    "df = df[df['score'] > 0]"
   ]
  },
  {
   "cell_type": "code",
   "execution_count": null,
   "metadata": {
    "colab": {
     "base_uri": "https://localhost:8080/",
     "height": 585
    },
    "colab_type": "code",
    "id": "4BpbsczHrtcu",
    "outputId": "66c8aa85-cb20-4e1a-e308-747396782368"
   },
   "outputs": [],
   "source": [
    "sns.pairplot(df, kind = 'reg')"
   ]
  },
  {
   "cell_type": "markdown",
   "metadata": {
    "colab_type": "text",
    "id": "MUdarIQ7sDsn"
   },
   "source": [
    "Теперь все логично, чем больше пропусков, тем ниже итоговая оценка.\n",
    "\n",
    "Признаем столбцы возраст и пропуски влияющими на итоговую оценку и оставляем их для дальнейшего построения модели."
   ]
  },
  {
   "cell_type": "markdown",
   "metadata": {
    "colab_type": "text",
    "id": "SasG06zWseGX"
   },
   "source": [
    "#Анализ номинативных переменных"
   ]
  },
  {
   "cell_type": "code",
   "execution_count": null,
   "metadata": {
    "colab": {
     "base_uri": "https://localhost:8080/",
     "height": 1000
    },
    "colab_type": "code",
    "id": "9tqeY4k5sNlu",
    "outputId": "7594f833-f6bf-4e69-aa46-e421d0d0f687"
   },
   "outputs": [],
   "source": [
    "def countplots(df):\n",
    "  fig, axes = plt.subplots(9, 3, figsize = (22, 60))\n",
    "\n",
    "  count = 0\n",
    "\n",
    "  for column_name in df:\n",
    "    if df[column_name].dtype == 'object':\n",
    "\n",
    "      ax = axes[count // 3, count % 3]\n",
    "\n",
    "      df = df.sort_values(by = [column_name])\n",
    "\n",
    "      sns.boxplot(data = df, x = column_name, y = \"score\", ax = ax)\n",
    "\n",
    "      count += 1\n",
    "\n",
    "  fig.tight_layout() \n",
    "  fig.show()\n",
    "\n",
    "\n",
    "countplots(df)"
   ]
  },
  {
   "cell_type": "markdown",
   "metadata": {
    "colab_type": "text",
    "id": "q4-M2zXG212D"
   },
   "source": [
    "Можем заметить, что итоговый резултат лучше у\n",
    "* юношей\n",
    "* детей отцов учителей и матерей работающих в сфере здравоохранения\n",
    "* тех, кто гулял меньше\n",
    "* тех, у кого здоровье хуже\n",
    "\n",
    "и так далее, все перечислять не будем, все это видно на диаграммах.\n",
    "\n",
    "Есть несколько интересных моментов.\n",
    "\n",
    "Оценка сильно зависит от уровня образования матери, чем уровень выше, тем оценка выше. Тем не менее выделяются результаты учеников, у матерей которых нет образоывания. Интересно почему?\n",
    "\n",
    "Также интеерсно, почему с образованием отцов такой зависимости нет.\n",
    "\n",
    "Еще один интересный столбец - количество внеучебных неудач. Чем их меньше, тем результат лучше. Особняком стоит значение 0 (другое), мы не можем знать, что оно означает (меньше 1 или больше 3), следуя общей логике можно предположить, что меньше 1. \n",
    "\n"
   ]
  },
  {
   "cell_type": "markdown",
   "metadata": {
    "colab_type": "text",
    "id": "TJ3FNYkV59_t"
   },
   "source": [
    "Сделаем тест Стюдента"
   ]
  },
  {
   "cell_type": "code",
   "execution_count": null,
   "metadata": {
    "colab": {
     "base_uri": "https://localhost:8080/",
     "height": 269
    },
    "colab_type": "code",
    "id": "qca0Olso0cwu",
    "outputId": "72934ae4-e6b7-4b72-b738-9b359b7a79b5"
   },
   "outputs": [],
   "source": [
    "for col in df.columns:\n",
    "    \n",
    "    combs = list(combinations(df[col].unique(), 2))\n",
    "    \n",
    "    for a, b in combs:\n",
    "        a_values = df.loc[df[col] == a, 'score']\n",
    "        b_values = df.loc[df[col] == b, 'score']        \n",
    "        pval = ttest_ind(a_values, b_values).pvalue\n",
    "        if pval <= (0.05 / len(combs)):\n",
    "            print(f\"Найдены статистически значимые различия для колонки {col}\")\n",
    "            break"
   ]
  },
  {
   "cell_type": "markdown",
   "metadata": {
    "colab_type": "text",
    "id": "R4_bMlbjAtQb"
   },
   "source": [
    "Оставляем в нашем датасете только статистически значимые столбцы."
   ]
  },
  {
   "cell_type": "code",
   "execution_count": null,
   "metadata": {
    "colab": {},
    "colab_type": "code",
    "id": "ck1Bvq0BBBya"
   },
   "outputs": [],
   "source": [
    "res = df.loc[:, ['address', 'age', 'medu', 'fedu', 'mjob', 'fjob', 'studytime', 'failures', 'schoolsup', 'goout', 'absences', 'score']]"
   ]
  },
  {
   "cell_type": "code",
   "execution_count": null,
   "metadata": {
    "colab": {
     "base_uri": "https://localhost:8080/",
     "height": 419
    },
    "colab_type": "code",
    "id": "_lT1HOGwBkeF",
    "outputId": "2ebc2e2d-4b59-40b7-a3ab-ac454d8e4f33"
   },
   "outputs": [],
   "source": [
    "res"
   ]
  }
 ],
 "metadata": {
  "colab": {
   "collapsed_sections": [
    "07oYrIcwEsNA",
    "mY2fsEewjS2y"
   ],
   "name": "eda.ipynb",
   "provenance": []
  },
  "kernelspec": {
   "display_name": "Python 3",
   "language": "python",
   "name": "python3"
  },
  "language_info": {
   "codemirror_mode": {
    "name": "ipython",
    "version": 2
   },
   "file_extension": ".py",
   "mimetype": "text/x-python",
   "name": "python",
   "nbconvert_exporter": "python",
   "pygments_lexer": "ipython2",
   "version": "2.7.18rc1"
  }
 },
 "nbformat": 4,
 "nbformat_minor": 1
}
