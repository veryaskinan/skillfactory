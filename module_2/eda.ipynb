{
  "cells": [
    {
      "cell_type": "markdown",
      "metadata": {
        "pycharm": {
          "name": "#%% md\n"
        },
        "id": "NRQcc-Jbi1S7",
        "colab_type": "text"
      },
      "source": [
        "Импортируем необходимые библиотеки, и делаем некоторые предустановки."
      ]
    },
    {
      "cell_type": "code",
      "metadata": {
        "id": "FRdBis-Si1S9",
        "colab_type": "code",
        "colab": {}
      },
      "source": [
        "import numpy as np\n",
        "import pandas as pd\n",
        "from IPython.core.display import display\n",
        "import matplotlib.pyplot as plt\n",
        "import seaborn as sns\n",
        "import math\n",
        "from IPython.display import Javascript\n",
        "from itertools import combinations\n",
        "from scipy.stats import ttest_ind\n",
        "\n",
        "sns.set(style=\"whitegrid\")\n",
        "pd.set_option('display.max_rows', 50) # показывать больше строк\n",
        "pd.set_option('display.max_columns', 50) # показывать больше колонок"
      ],
      "execution_count": 1,
      "outputs": [
        {
          "output_type": "error",
          "ename": "ImportError",
          "evalue": "No module named matplotlib.pyplot",
          "traceback": [
            "\u001b[0;31m\u001b[0m",
            "\u001b[0;31mImportError\u001b[0mTraceback (most recent call last)",
            "\u001b[0;32m<ipython-input-1-ac0b5048f800>\u001b[0m in \u001b[0;36m<module>\u001b[0;34m()\u001b[0m\n\u001b[1;32m      2\u001b[0m \u001b[0;32mimport\u001b[0m \u001b[0mpandas\u001b[0m \u001b[0;32mas\u001b[0m \u001b[0mpd\u001b[0m\u001b[0;34m\u001b[0m\u001b[0m\n\u001b[1;32m      3\u001b[0m \u001b[0;32mfrom\u001b[0m \u001b[0mIPython\u001b[0m\u001b[0;34m.\u001b[0m\u001b[0mcore\u001b[0m\u001b[0;34m.\u001b[0m\u001b[0mdisplay\u001b[0m \u001b[0;32mimport\u001b[0m \u001b[0mdisplay\u001b[0m\u001b[0;34m\u001b[0m\u001b[0m\n\u001b[0;32m----> 4\u001b[0;31m \u001b[0;32mimport\u001b[0m \u001b[0mmatplotlib\u001b[0m\u001b[0;34m.\u001b[0m\u001b[0mpyplot\u001b[0m \u001b[0;32mas\u001b[0m \u001b[0mplt\u001b[0m\u001b[0;34m\u001b[0m\u001b[0m\n\u001b[0m\u001b[1;32m      5\u001b[0m \u001b[0;32mimport\u001b[0m \u001b[0mseaborn\u001b[0m \u001b[0;32mas\u001b[0m \u001b[0msns\u001b[0m\u001b[0;34m\u001b[0m\u001b[0m\n\u001b[1;32m      6\u001b[0m \u001b[0;32mimport\u001b[0m \u001b[0mmath\u001b[0m\u001b[0;34m\u001b[0m\u001b[0m\n",
            "\u001b[0;31mImportError\u001b[0m: No module named matplotlib.pyplot"
          ]
        }
      ]
    },
    {
      "cell_type": "markdown",
      "metadata": {
        "id": "1Ch17fTDi1TC",
        "colab_type": "text"
      },
      "source": [
        "## Общий обзор\n",
        "Читаем файл, выводим датасет."
      ]
    },
    {
      "cell_type": "code",
      "metadata": {
        "pycharm": {
          "name": "#%%\n"
        },
        "id": "9Sr42tDXi1TC",
        "colab_type": "code",
        "colab": {
          "base_uri": "https://localhost:8080/",
          "height": 396
        },
        "outputId": "ece54186-6c15-4ecf-fefa-bd38a14565c7"
      },
      "source": [
        "df = pd.read_csv('stud_math.csv')\n",
        "df.head(10)\n"
      ],
      "execution_count": 2,
      "outputs": [
        {
          "output_type": "execute_result",
          "data": {
            "text/plain": "  school sex  age address famsize Pstatus  Medu  Fedu      Mjob     Fjob  ...  \\\n0     GP   F   18       U     NaN       A   4.0   4.0   at_home  teacher  ...   \n1     GP   F   17       U     GT3     NaN   1.0   1.0   at_home    other  ...   \n2     GP   F   15       U     LE3       T   1.0   1.0   at_home    other  ...   \n3     GP   F   15       U     GT3       T   4.0   2.0    health      NaN  ...   \n4     GP   F   16       U     GT3       T   3.0   3.0     other    other  ...   \n5     GP   M   16       U     LE3       T   4.0   3.0  services    other  ...   \n6     GP   M   16     NaN     LE3       T   2.0   2.0     other    other  ...   \n7     GP   F   17       U     GT3       A   4.0   4.0     other  teacher  ...   \n8     GP   M   15       U     LE3       A   3.0   2.0  services    other  ...   \n9     GP   M   15       U     NaN     NaN   3.0   4.0     other    other  ...   \n\n  studytime, granular higher  internet  romantic  famrel freetime goout  \\\n0                -6.0    yes       NaN        no     4.0      3.0   4.0   \n1                -6.0    yes       yes        no     5.0      3.0   3.0   \n2                -6.0    yes       yes       NaN     4.0      3.0   2.0   \n3                -9.0    yes       yes       yes     3.0      2.0   2.0   \n4                -6.0    yes        no        no     4.0      3.0   2.0   \n5                -6.0    yes       yes        no     5.0      4.0   2.0   \n6                -6.0    yes       yes        no     4.0      4.0   4.0   \n7                -6.0    yes        no        no     4.0      1.0   4.0   \n8                -6.0    yes       yes        no     NaN      2.0   2.0   \n9                -6.0    yes       yes        no     5.0      5.0   1.0   \n\n  health absences score  \n0    3.0      6.0  30.0  \n1    3.0      4.0  30.0  \n2    3.0     10.0  50.0  \n3    5.0      2.0  75.0  \n4    5.0      4.0  50.0  \n5    5.0     10.0  75.0  \n6    3.0      0.0  55.0  \n7    1.0      6.0  30.0  \n8    1.0      0.0  95.0  \n9    5.0      0.0  75.0  \n\n[10 rows x 30 columns]",
            "text/html": "<div>\n<style scoped>\n    .dataframe tbody tr th:only-of-type {\n        vertical-align: middle;\n    }\n\n    .dataframe tbody tr th {\n        vertical-align: top;\n    }\n\n    .dataframe thead th {\n        text-align: right;\n    }\n</style>\n<table border=\"1\" class=\"dataframe\">\n  <thead>\n    <tr style=\"text-align: right;\">\n      <th></th>\n      <th>school</th>\n      <th>sex</th>\n      <th>age</th>\n      <th>address</th>\n      <th>famsize</th>\n      <th>Pstatus</th>\n      <th>Medu</th>\n      <th>Fedu</th>\n      <th>Mjob</th>\n      <th>Fjob</th>\n      <th>...</th>\n      <th>studytime, granular</th>\n      <th>higher</th>\n      <th>internet</th>\n      <th>romantic</th>\n      <th>famrel</th>\n      <th>freetime</th>\n      <th>goout</th>\n      <th>health</th>\n      <th>absences</th>\n      <th>score</th>\n    </tr>\n  </thead>\n  <tbody>\n    <tr>\n      <th>0</th>\n      <td>GP</td>\n      <td>F</td>\n      <td>18</td>\n      <td>U</td>\n      <td>NaN</td>\n      <td>A</td>\n      <td>4.0</td>\n      <td>4.0</td>\n      <td>at_home</td>\n      <td>teacher</td>\n      <td>...</td>\n      <td>-6.0</td>\n      <td>yes</td>\n      <td>NaN</td>\n      <td>no</td>\n      <td>4.0</td>\n      <td>3.0</td>\n      <td>4.0</td>\n      <td>3.0</td>\n      <td>6.0</td>\n      <td>30.0</td>\n    </tr>\n    <tr>\n      <th>1</th>\n      <td>GP</td>\n      <td>F</td>\n      <td>17</td>\n      <td>U</td>\n      <td>GT3</td>\n      <td>NaN</td>\n      <td>1.0</td>\n      <td>1.0</td>\n      <td>at_home</td>\n      <td>other</td>\n      <td>...</td>\n      <td>-6.0</td>\n      <td>yes</td>\n      <td>yes</td>\n      <td>no</td>\n      <td>5.0</td>\n      <td>3.0</td>\n      <td>3.0</td>\n      <td>3.0</td>\n      <td>4.0</td>\n      <td>30.0</td>\n    </tr>\n    <tr>\n      <th>2</th>\n      <td>GP</td>\n      <td>F</td>\n      <td>15</td>\n      <td>U</td>\n      <td>LE3</td>\n      <td>T</td>\n      <td>1.0</td>\n      <td>1.0</td>\n      <td>at_home</td>\n      <td>other</td>\n      <td>...</td>\n      <td>-6.0</td>\n      <td>yes</td>\n      <td>yes</td>\n      <td>NaN</td>\n      <td>4.0</td>\n      <td>3.0</td>\n      <td>2.0</td>\n      <td>3.0</td>\n      <td>10.0</td>\n      <td>50.0</td>\n    </tr>\n    <tr>\n      <th>3</th>\n      <td>GP</td>\n      <td>F</td>\n      <td>15</td>\n      <td>U</td>\n      <td>GT3</td>\n      <td>T</td>\n      <td>4.0</td>\n      <td>2.0</td>\n      <td>health</td>\n      <td>NaN</td>\n      <td>...</td>\n      <td>-9.0</td>\n      <td>yes</td>\n      <td>yes</td>\n      <td>yes</td>\n      <td>3.0</td>\n      <td>2.0</td>\n      <td>2.0</td>\n      <td>5.0</td>\n      <td>2.0</td>\n      <td>75.0</td>\n    </tr>\n    <tr>\n      <th>4</th>\n      <td>GP</td>\n      <td>F</td>\n      <td>16</td>\n      <td>U</td>\n      <td>GT3</td>\n      <td>T</td>\n      <td>3.0</td>\n      <td>3.0</td>\n      <td>other</td>\n      <td>other</td>\n      <td>...</td>\n      <td>-6.0</td>\n      <td>yes</td>\n      <td>no</td>\n      <td>no</td>\n      <td>4.0</td>\n      <td>3.0</td>\n      <td>2.0</td>\n      <td>5.0</td>\n      <td>4.0</td>\n      <td>50.0</td>\n    </tr>\n    <tr>\n      <th>5</th>\n      <td>GP</td>\n      <td>M</td>\n      <td>16</td>\n      <td>U</td>\n      <td>LE3</td>\n      <td>T</td>\n      <td>4.0</td>\n      <td>3.0</td>\n      <td>services</td>\n      <td>other</td>\n      <td>...</td>\n      <td>-6.0</td>\n      <td>yes</td>\n      <td>yes</td>\n      <td>no</td>\n      <td>5.0</td>\n      <td>4.0</td>\n      <td>2.0</td>\n      <td>5.0</td>\n      <td>10.0</td>\n      <td>75.0</td>\n    </tr>\n    <tr>\n      <th>6</th>\n      <td>GP</td>\n      <td>M</td>\n      <td>16</td>\n      <td>NaN</td>\n      <td>LE3</td>\n      <td>T</td>\n      <td>2.0</td>\n      <td>2.0</td>\n      <td>other</td>\n      <td>other</td>\n      <td>...</td>\n      <td>-6.0</td>\n      <td>yes</td>\n      <td>yes</td>\n      <td>no</td>\n      <td>4.0</td>\n      <td>4.0</td>\n      <td>4.0</td>\n      <td>3.0</td>\n      <td>0.0</td>\n      <td>55.0</td>\n    </tr>\n    <tr>\n      <th>7</th>\n      <td>GP</td>\n      <td>F</td>\n      <td>17</td>\n      <td>U</td>\n      <td>GT3</td>\n      <td>A</td>\n      <td>4.0</td>\n      <td>4.0</td>\n      <td>other</td>\n      <td>teacher</td>\n      <td>...</td>\n      <td>-6.0</td>\n      <td>yes</td>\n      <td>no</td>\n      <td>no</td>\n      <td>4.0</td>\n      <td>1.0</td>\n      <td>4.0</td>\n      <td>1.0</td>\n      <td>6.0</td>\n      <td>30.0</td>\n    </tr>\n    <tr>\n      <th>8</th>\n      <td>GP</td>\n      <td>M</td>\n      <td>15</td>\n      <td>U</td>\n      <td>LE3</td>\n      <td>A</td>\n      <td>3.0</td>\n      <td>2.0</td>\n      <td>services</td>\n      <td>other</td>\n      <td>...</td>\n      <td>-6.0</td>\n      <td>yes</td>\n      <td>yes</td>\n      <td>no</td>\n      <td>NaN</td>\n      <td>2.0</td>\n      <td>2.0</td>\n      <td>1.0</td>\n      <td>0.0</td>\n      <td>95.0</td>\n    </tr>\n    <tr>\n      <th>9</th>\n      <td>GP</td>\n      <td>M</td>\n      <td>15</td>\n      <td>U</td>\n      <td>NaN</td>\n      <td>NaN</td>\n      <td>3.0</td>\n      <td>4.0</td>\n      <td>other</td>\n      <td>other</td>\n      <td>...</td>\n      <td>-6.0</td>\n      <td>yes</td>\n      <td>yes</td>\n      <td>no</td>\n      <td>5.0</td>\n      <td>5.0</td>\n      <td>1.0</td>\n      <td>5.0</td>\n      <td>0.0</td>\n      <td>75.0</td>\n    </tr>\n  </tbody>\n</table>\n<p>10 rows × 30 columns</p>\n</div>"
          },
          "metadata": {},
          "execution_count": 2
        }
      ]
    },
    {
      "cell_type": "markdown",
      "metadata": {
        "pycharm": {
          "name": "#%% md\n"
        },
        "id": "wSU8ndRoi1TI",
        "colab_type": "text"
      },
      "source": [
        "У нас в распоряжении данные о 395 учениках. С первого взгляда видим, что некоторые поля содержат пустые значения.\n",
        "И кажется еще кое-что.\n",
        "Посмотрим информацию о колонках."
      ]
    },
    {
      "cell_type": "code",
      "metadata": {
        "pycharm": {
          "name": "#%%\n"
        },
        "id": "Sy3zR42Ti1TJ",
        "colab_type": "code",
        "colab": {
          "base_uri": "https://localhost:8080/",
          "height": 683
        },
        "outputId": "35ca0e3d-d948-4c1f-e6c1-33c8b6861d11",
        "tags": []
      },
      "source": [
        "df.info()"
      ],
      "execution_count": 3,
      "outputs": [
        {
          "output_type": "stream",
          "name": "stdout",
          "text": "<class 'pandas.core.frame.DataFrame'>\nRangeIndex: 395 entries, 0 to 394\nData columns (total 30 columns):\nschool                 395 non-null object\nsex                    395 non-null object\nage                    395 non-null int64\naddress                378 non-null object\nfamsize                368 non-null object\nPstatus                350 non-null object\nMedu                   392 non-null float64\nFedu                   371 non-null float64\nMjob                   376 non-null object\nFjob                   359 non-null object\nreason                 378 non-null object\nguardian               364 non-null object\ntraveltime             367 non-null float64\nstudytime              388 non-null float64\nfailures               373 non-null float64\nschoolsup              386 non-null object\nfamsup                 356 non-null object\npaid                   355 non-null object\nactivities             381 non-null object\nnursery                379 non-null object\nstudytime, granular    388 non-null float64\nhigher                 375 non-null object\ninternet               361 non-null object\nromantic               364 non-null object\nfamrel                 368 non-null float64\nfreetime               384 non-null float64\ngoout                  387 non-null float64\nhealth                 380 non-null float64\nabsences               383 non-null float64\nscore                  389 non-null float64\ndtypes: float64(12), int64(1), object(17)\nmemory usage: 92.6+ KB\n"
        }
      ]
    },
    {
      "cell_type": "markdown",
      "metadata": {
        "pycharm": {
          "name": "#%% md\n"
        },
        "id": "B26b_YHIi1TN",
        "colab_type": "text"
      },
      "source": [
        "Приведем все названия колонок в нижний регистр."
      ]
    },
    {
      "cell_type": "code",
      "metadata": {
        "pycharm": {
          "name": "#%%\n"
        },
        "id": "FPzhYmLCi1TO",
        "colab_type": "code",
        "colab": {}
      },
      "source": [
        "df.columns = map(str.lower, df.columns)"
      ],
      "execution_count": 4,
      "outputs": []
    },
    {
      "cell_type": "code",
      "metadata": {
        "pycharm": {
          "name": "#%%\n"
        },
        "id": "YMj7lhJai1TS",
        "colab_type": "code",
        "colab": {
          "base_uri": "https://localhost:8080/",
          "height": 683
        },
        "outputId": "e4669569-c7b7-438c-88ff-00d80761c5b6",
        "tags": []
      },
      "source": [
        "df.info()\n"
      ],
      "execution_count": 5,
      "outputs": [
        {
          "output_type": "stream",
          "name": "stdout",
          "text": "<class 'pandas.core.frame.DataFrame'>\nRangeIndex: 395 entries, 0 to 394\nData columns (total 30 columns):\nschool                 395 non-null object\nsex                    395 non-null object\nage                    395 non-null int64\naddress                378 non-null object\nfamsize                368 non-null object\npstatus                350 non-null object\nmedu                   392 non-null float64\nfedu                   371 non-null float64\nmjob                   376 non-null object\nfjob                   359 non-null object\nreason                 378 non-null object\nguardian               364 non-null object\ntraveltime             367 non-null float64\nstudytime              388 non-null float64\nfailures               373 non-null float64\nschoolsup              386 non-null object\nfamsup                 356 non-null object\npaid                   355 non-null object\nactivities             381 non-null object\nnursery                379 non-null object\nstudytime, granular    388 non-null float64\nhigher                 375 non-null object\ninternet               361 non-null object\nromantic               364 non-null object\nfamrel                 368 non-null float64\nfreetime               384 non-null float64\ngoout                  387 non-null float64\nhealth                 380 non-null float64\nabsences               383 non-null float64\nscore                  389 non-null float64\ndtypes: float64(12), int64(1), object(17)\nmemory usage: 92.6+ KB\n"
        }
      ]
    },
    {
      "cell_type": "markdown",
      "metadata": {
        "id": "mjzZKEE-i1TW",
        "colab_type": "text"
      },
      "source": [
        "Наблюдается два интересных момента.\n",
        "1. Колонок в нашем датасете 30, в то время как в описании датасета - 29. Видим отсутствующую в описании колонку \"studytime, granular\", в которой 388 ненулевых значений, так же как и в колонке \"studytime\". Совпадают ли данные в этих колонках? Выясним позже а пока возьмем на заметку.\n",
        "2. Не все колонки числового типа отражают абсолютный колчиственный показатель. Например, такие колонки как Medu, Fedu - упрощенное представление об уровне образования."
      ]
    },
    {
      "cell_type": "markdown",
      "metadata": {
        "id": "ET9ADQhwi1TX",
        "colab_type": "text"
      },
      "source": [
        "## Рассмотрим все столбцы"
      ]
    },
    {
      "cell_type": "markdown",
      "metadata": {
        "id": "GrW79CCrncBy",
        "colab_type": "text"
      },
      "source": [
        "Составим словарь допустимых значений для \"номинативных\" столбцов. Он понадобится нам для отображения информации на графиках.\n",
        "\n",
        "\"Номинативных\" написано в кавычках, потому что, как упомяналось ранее, некторые числовые столбцы не отражают количественный показатель, и такие столбцы в принципе можно считать номинативными"
      ]
    },
    {
      "cell_type": "code",
      "metadata": {
        "id": "ciGrfol3pccr",
        "colab_type": "code",
        "colab": {}
      },
      "source": [
        "rules = {\n",
        "    \"sex\": {\n",
        "        \"title\": \"пол\",\n",
        "        \"values\": {\n",
        "          \"F\": 'девушки',\n",
        "          \"M\": \"юноши\"   \n",
        "        }\n",
        "    },\n",
        "    \"address\": {\n",
        "        \"title\": \"адрес\",\n",
        "        \"values\": {\n",
        "          \"U\": \"город\",\n",
        "          \"R\": \"за городом\"   \n",
        "        }\n",
        "    },\n",
        "    \"famsize\": {\n",
        "        \"title\": \"размер семьи\",\n",
        "        \"values\": {\n",
        "          \"LE3\": \"<= 3\",\n",
        "          \"GT3\": \"> 3\"\n",
        "        }\n",
        "    },\n",
        "    \"pstatus\": {\n",
        "        \"title\": \"родители вместе?\",\n",
        "        \"values\": {\n",
        "          \"T\": \"вместе\",\n",
        "          \"A\": \"раздельно\"\n",
        "        }\n",
        "    },\n",
        "    \"medu\": {\n",
        "        \"title\": \"образование матери\",\n",
        "        \"values\": {\n",
        "          \"0.0\": \"0) нет\",\n",
        "          \"1.0\": \"1) 4 кл\",\n",
        "          \"2.0\": \"2) 5-9 кл\",\n",
        "          \"3.0\": \"3) 11 кл / ср.сп.\",\n",
        "          \"4.0\": \"4) высшее\",\n",
        "        }\n",
        "    },\n",
        "    \"fedu\": {\n",
        "        \"title\": \"образование отца\",\n",
        "        \"values\": {\n",
        "          \"0.0\": \"0) нет\",\n",
        "          \"1.0\": \"1) 4 кл\",\n",
        "          \"2.0\": \"2) 5-9 кл\",\n",
        "          \"3.0\": \"3) 11 кл / ср.сп.\",\n",
        "          \"4.0\": \"4) высшее\",\n",
        "        }\n",
        "    },\n",
        "    \"fjob\": {\n",
        "        \"title\": \"работа отца\",\n",
        "        \"values\": {\n",
        "          \"teacher\": \"учитель\",\n",
        "          \"health\": \"здравохранение\",\n",
        "          \"services\": \"гос.служба\",\n",
        "          \"at_home\": \"не работает\",\n",
        "          \"other\": \".другое\",\n",
        "        }\n",
        "    },\n",
        "    \"mjob\": {\n",
        "        \"title\": \"работа матери\",\n",
        "        \"values\": {\n",
        "          \"teacher\": \"учитель\",\n",
        "          \"health\": \"здравохранение\",\n",
        "          \"services\": \"гос.служба\",\n",
        "          \"at_home\": \"не работает\",\n",
        "          \"other\": \".другое\",\n",
        "        }\n",
        "    },\n",
        "    \"reason\": {\n",
        "        \"title\": \"причина выбора школы\",\n",
        "        \"values\": {\n",
        "          \"home\": \"близость к дому\",\n",
        "          \"reputation\": \"репутация\",\n",
        "          \"course\": \"об. программа\",\n",
        "          \"other\": \".другое\",\n",
        "        }\n",
        "    },\n",
        "    \"guardian\": {\n",
        "        \"title\": \"опекун\",\n",
        "        \"values\": {\n",
        "          \"mother\": \"мать\",\n",
        "          \"father\": \"отец\",\n",
        "          \"other\": \"другое\",\n",
        "        }\n",
        "    },\n",
        "    \"traveltime\": {\n",
        "        \"title\": \"время до школы (мин)\",\n",
        "        \"values\": {\n",
        "          \"1.0\": \"1) < 15\",\n",
        "          \"2.0\": \"2) 15-30\",\n",
        "          \"3.0\": \"3) 30-60\",\n",
        "          \"4.0\": \"4) > 60\",\n",
        "        }\n",
        "    },\n",
        "    \"studytime\": {\n",
        "        \"title\": \"время учебы вне школы (ч)\",\n",
        "        \"values\": {\n",
        "          \"1.0\": \"1) < 2\",\n",
        "          \"2.0\": \"2) 2-5\",\n",
        "          \"3.0\": \"3) 5-10\",\n",
        "          \"4.0\": \"4) > 10\",\n",
        "        }\n",
        "    },\n",
        "    \"studytime, granular\": {\n",
        "        \"title\": \"время учебы вне школы (ч) g\",\n",
        "        \"values\": {\n",
        "          \"1.0\": \"1) < 2\",\n",
        "          \"2.0\": \"2) 2-5\",\n",
        "          \"3.0\": \"3) 5-10\",\n",
        "          \"4.0\": \"4) > 10\",\n",
        "        }\n",
        "    },\n",
        "    \"failures\": {\n",
        "        \"title\": \"внеучебные неудачи\",\n",
        "        \"values\": {\n",
        "          \"1.0\": \"1\",\n",
        "          \"2.0\": \"2\",\n",
        "          \"3.0\": \"3\",\n",
        "          \"0.0\": \"другое\",}\n",
        "    },\n",
        "    \"schoolsup\": {\n",
        "        \"title\": \"доп. обр. поддержка\",\n",
        "        \"values\": {\n",
        "          \"yes\": \"да\",\n",
        "          \"no\": \"нет\"\n",
        "        }\n",
        "    },\n",
        "    \"famsup\": {\n",
        "        \"title\": \"семейная обр. поддержка\",\n",
        "        \"values\": {\n",
        "          \"yes\": \"да\",\n",
        "          \"no\": \"нет\"\n",
        "        }\n",
        "    },\n",
        "    \"paid\": {\n",
        "        \"title\": \"доп. платная математика\",\n",
        "        \"values\": {\n",
        "          \"yes\": \"да\",\n",
        "          \"no\": \"нет\"\n",
        "        }\n",
        "    },\n",
        "    \"activities\": {\n",
        "        \"title\": \"доп. внеучебные занятия\",\n",
        "        \"values\": {\n",
        "          \"yes\": \"да\",\n",
        "          \"no\": \"нет\"\n",
        "        }\n",
        "    },\n",
        "    \"nursery\": {\n",
        "        \"title\": \"дет. сад\",\n",
        "        \"values\": {\n",
        "          \"yes\": \"да\",\n",
        "          \"no\": \"нет\"\n",
        "        }\n",
        "    },\n",
        "    \"higher\": {\n",
        "        \"title\": \"вышку хочет?\",\n",
        "        \"values\": {\n",
        "          \"yes\": \"да\",\n",
        "          \"no\": \"нет\"\n",
        "        }\n",
        "    },\n",
        "    \"internet\": {\n",
        "        \"title\": \"интернет есть?\",\n",
        "        \"values\": {\n",
        "          \"yes\": \"да\",\n",
        "          \"no\": \"нет\"\n",
        "        }\n",
        "    },\n",
        "    \"romantic\": {\n",
        "        \"title\": \"отношения\",\n",
        "        \"values\": {\n",
        "          \"yes\": \"да\",\n",
        "          \"no\": \"нет\"\n",
        "        }\n",
        "    },\n",
        "    \"famrel\": {\n",
        "        \"title\": \"семейные отношения\",\n",
        "        \"values\": {\n",
        "          \"1.0\": \"1) ужасные\",\n",
        "          \"2.0\": \"2) плохие\",\n",
        "          \"3.0\": \"3) норм\",\n",
        "          \"4.0\": \"4) хорошие\",\n",
        "          \"5.0\": \"5) прекрасные\",\n",
        "        }\n",
        "    },\n",
        "    \"freetime\": {\n",
        "        \"title\": \"свобода\",\n",
        "        \"values\": {\n",
        "          \"1.0\": \"1) оч мало\",\n",
        "          \"2.0\": \"2) мало\",\n",
        "          \"3.0\": \"3) норм\",\n",
        "          \"4.0\": \"4) много\",\n",
        "          \"5.0\": \"5) оч много\",\n",
        "        }\n",
        "    },\n",
        "    \"goout\": {\n",
        "        \"title\": \"время с друзьями\",\n",
        "        \"values\": {\n",
        "          \"1.0\": \"1) оч мало\",\n",
        "          \"2.0\": \"2) мало\",\n",
        "          \"3.0\": \"3) норм\",\n",
        "          \"4.0\": \"4) много\",\n",
        "          \"5.0\": \"5) оч много\",\n",
        "        }\n",
        "    },\n",
        "    \"health\": {\n",
        "        \"title\": \"здоровье\",\n",
        "        \"values\": {\n",
        "          \"1.0\": \"1) ужасное\",\n",
        "          \"2.0\": \"2) плохое\",\n",
        "          \"3.0\": \"3) норм\",\n",
        "          \"4.0\": \"4) хорошее\",\n",
        "          \"5.0\": \"5) прекрасное\",\n",
        "        }\n",
        "    }\n",
        "}"
      ],
      "execution_count": 6,
      "outputs": []
    },
    {
      "cell_type": "markdown",
      "metadata": {
        "id": "NgsBwnrPJhn3",
        "colab_type": "text"
      },
      "source": [
        "Заменим значения в \"номинативных\" столбцах, чтобы лучше понимать диаграммы.Также заменим пустые значения, чтобы отобразить их на диаграммах. Возьмем -2 вкачестве пустого значение для числовых столбцов."
      ]
    },
    {
      "cell_type": "code",
      "metadata": {
        "id": "jzIZKkTuLXsZ",
        "colab_type": "code",
        "colab": {}
      },
      "source": [
        "def change_column_type(name, type):\n",
        "  if name in list(rules.keys()):\n",
        "    if type in ['float64', 'int64']:\n",
        "      df[name] = df[name].astype(str)\n",
        "\n",
        "def smart_value(name, value):\n",
        "  if name in list(rules.keys()):\n",
        "    if value in list(rules[name]['values'].keys()):\n",
        "      return rules[name]['values'][value]\n",
        "  return value\n",
        "  \n",
        "def empty_value(type, value):\n",
        "  if type == 'object':\n",
        "    return '-'\n",
        "  elif type in ['float64', 'int64']:\n",
        "    return -2\n",
        "\n",
        "def change_value(name, type, value):\n",
        "  if value != value or value == 'nan':\n",
        "    return empty_value(type, value)\n",
        "  else:\n",
        "    return smart_value(name, value)\n",
        "\n",
        "\n",
        "for column_name in df:\n",
        "  change_column_type(column_name, df[column_name].dtype)\n",
        "  df[column_name] = df[column_name].map(\n",
        "      lambda value: change_value(column_name, df[column_name].dtype, value)\n",
        "  )"
      ],
      "execution_count": 7,
      "outputs": []
    },
    {
      "cell_type": "markdown",
      "metadata": {
        "id": "fa53hlyJmv7N",
        "colab_type": "text"
      },
      "source": [
        "Поскольку в датасете не много данных, и даже в числовых столбцах кол-во уникальных значений не сильно велико, то можно построить для всех столцов столбчатые диаграммы и посмотреть на распределение по признакам."
      ]
    },
    {
      "cell_type": "code",
      "metadata": {
        "id": "mSPQdUDvtqAm",
        "colab_type": "code",
        "colab": {
          "base_uri": "https://localhost:8080/",
          "height": 3437
        },
        "outputId": "a8d90dce-48f9-4346-94e5-150722568bcf"
      },
      "source": [
        "def explore(df, columns, inrow = 4, percent = True):\n",
        "  fig, axes = plt.subplots(\n",
        "    math.ceil(len(columns)/inrow), \n",
        "    inrow, \n",
        "    figsize=(24, math.ceil(len(columns)/inrow) * 4)\n",
        "  )\n",
        "\n",
        "  for column in columns:\n",
        "    if len(columns) > len(columns) / inrow:\n",
        "      ax = axes[\n",
        "        int(math.floor(columns.index(column) + 1) / inrow - 0.00000001),\n",
        "        int(columns.index(column) % inrow)\n",
        "      ]\n",
        "    else:\n",
        "      ax = axes[int(math.floor(columns.index(column) + 1) / inrow - 0.00000001)]\n",
        "\n",
        "    df.sort_values(by = [column], inplace = True)\n",
        "    countplot = sns.countplot(data = df, x = column, ax = ax)\n",
        "  \n",
        "    countplot.set(\n",
        "      ylim=(0, len(df)),\n",
        "      xlabel = rules[column]['title'] if column in list(rules.keys()) else column, \n",
        "      ylabel=''\n",
        "    )\n",
        "  \n",
        "    for p in countplot.patches:\n",
        "        x=p.get_bbox().get_points()[:,0]\n",
        "        y=p.get_bbox().get_points()[1,1]\n",
        "        countplot.annotate(\n",
        "            f'{int(y)} {f\"({int(round(100*y/len(df), 0))}%)\" if percent else \"\"}', \n",
        "            (x.mean(), y), \n",
        "            ha ='center', \n",
        "            va='bottom'\n",
        "        )\n",
        "  \n",
        "  fig.tight_layout() \n",
        "  fig.show()\n",
        "\n",
        "explore(df, ['school', 'sex', 'address', 'famsize', 'pstatus', \n",
        "  'guardian', 'schoolsup', 'famsup', 'paid', 'activities', 'nursery', \n",
        "  'higher', 'internet', 'romantic'], 6)\n",
        "\n",
        "explore(df, ['age', 'medu', 'fedu', 'mjob', 'fjob', 'reason', \n",
        "  'traveltime', 'studytime', \"studytime, granular\", 'failures', 'famrel', 'freetime', \n",
        "  'goout', 'health'], 2)\n",
        "\n",
        "explore(df, ['absences', 'score'], 1, percent = False)"
      ],
      "execution_count": 8,
      "outputs": [
        {
          "output_type": "error",
          "ename": "SyntaxError",
          "evalue": "invalid syntax (<ipython-input-8-f83e0a35c0fe>, line 30)",
          "traceback": [
            "\u001b[0;36m  File \u001b[0;32m\"<ipython-input-8-f83e0a35c0fe>\"\u001b[0;36m, line \u001b[0;32m30\u001b[0m\n\u001b[0;31m    f'{int(y)} {f\"({int(round(100*y/len(df), 0))}%)\" if percent else \"\"}',\u001b[0m\n\u001b[0m                                                                        ^\u001b[0m\n\u001b[0;31mSyntaxError\u001b[0m\u001b[0;31m:\u001b[0m invalid syntax\n"
          ]
        }
      ]
    },
    {
      "cell_type": "markdown",
      "metadata": {
        "id": "8YutCXFbAYAb",
        "colab_type": "text"
      },
      "source": [
        "Стобчатые диаграммы наглядно показывают нам распределение учеников по признакам и по количественным показателям. Например мы видим что в нашей выборке больше информации об учениках школы GP, что большинство учеников живут в городе, большинство хотят получить высшее образование, девушек и юношей примерно одинаково. Детально описывать каждый столбец не имеет смысла. Мы видим, что во многих столбцах есть пустые значения. Видим потенциальные выбросы в столбцах \"возраст\", \"образование матери\", \"образование отца\", \"семейные отношения\". Совсем непонятный столбец \"количество внеучебных неудач\", мало того непонятно, что он означает, так и не понятно значение 0 - это меньше 1 или больше 3. \n",
        "\n",
        "Видим что распределение значений в столбце studytime, granular такое же как и в столбце studytime, но при этом сами значения отличаются. Будем считать что между ними есть однозначное соответствие и не будем рассматривать этот столбец отдельно. И даже удалим его чтобы не мешался.\n",
        "\n",
        "Есть несколько интересных моментов. \n",
        "\n",
        "Значение 40 в столбце \"образования отца\". Скорее всего это опечатка и там должно быть 4. Заменим.\n",
        "\n",
        "Значение -1 в столбце \"семейные отношения\". Скоре всего это опечатка и там должно быть 1. Заменим.\n",
        "\n",
        "Столбец \"пропущенные занятия\" выглядит интересно: четных чисел  гораздо больше, чем нечетных, вероятно занятия проходят парами. Один ученик пропустил 385 занятий, вероятно он не посещал занятия вообще никогда."
      ]
    },
    {
      "cell_type": "code",
      "metadata": {
        "id": "-qJA_w0vPZmJ",
        "colab_type": "code",
        "colab": {}
      },
      "source": [
        "del df[\"studytime, granular\"]\n"
      ],
      "execution_count": 9,
      "outputs": []
    },
    {
      "cell_type": "code",
      "metadata": {
        "id": "qM11SXXBc_Rx",
        "colab_type": "code",
        "colab": {
          "base_uri": "https://localhost:8080/",
          "height": 107
        },
        "outputId": "84a67b6d-3351-438e-aec5-0526c3df2b9c",
        "tags": []
      },
      "source": [
        "df['fedu'][df['fedu'] == '40.0'] = rules['fedu']['values']['4.0']"
      ],
      "execution_count": 10,
      "outputs": [
        {
          "output_type": "stream",
          "name": "stderr",
          "text": "/home/andrei/.local/lib/python2.7/site-packages/ipykernel_launcher.py:1: SettingWithCopyWarning: \nA value is trying to be set on a copy of a slice from a DataFrame\n\nSee the caveats in the documentation: http://pandas.pydata.org/pandas-docs/stable/indexing.html#indexing-view-versus-copy\n  \"\"\"Entry point for launching an IPython kernel.\n"
        }
      ]
    },
    {
      "cell_type": "code",
      "metadata": {
        "id": "_HevsRqTd_ww",
        "colab_type": "code",
        "colab": {
          "base_uri": "https://localhost:8080/",
          "height": 107
        },
        "outputId": "ca2fa0b8-983a-4415-c68c-667095b5674f",
        "tags": []
      },
      "source": [
        "df['famrel'][df['famrel'] == '-1.0'] = rules['famrel']['values']['1.0']"
      ],
      "execution_count": 11,
      "outputs": [
        {
          "output_type": "stream",
          "name": "stderr",
          "text": "/home/andrei/.local/lib/python2.7/site-packages/ipykernel_launcher.py:1: SettingWithCopyWarning: \nA value is trying to be set on a copy of a slice from a DataFrame\n\nSee the caveats in the documentation: http://pandas.pydata.org/pandas-docs/stable/indexing.html#indexing-view-versus-copy\n  \"\"\"Entry point for launching an IPython kernel.\n"
        }
      ]
    },
    {
      "cell_type": "markdown",
      "metadata": {
        "id": "07oYrIcwEsNA",
        "colab_type": "text"
      },
      "source": [
        "## Выбросы\n",
        "\n",
        "Давайте найдем выбросы в числовых столбцах пользуясь формулой интерквартильного расстояния."
      ]
    },
    {
      "cell_type": "code",
      "metadata": {
        "id": "VHUM2DlbFFyZ",
        "colab_type": "code",
        "colab": {
          "base_uri": "https://localhost:8080/",
          "height": 0
        },
        "outputId": "8f72b504-18d3-46ad-dade-6ce11f07d973",
        "tags": []
      },
      "source": [
        "def show_outliners():\n",
        "  for column_name in df:\n",
        "    column = df[column_name]\n",
        "    if column.dtype in ['int64', 'float64']:\n",
        "      IQR = column.quantile(0.75) - column.quantile(0.25)\n",
        "      outliners = {\n",
        "        \"left\": column.quantile(0.25) - 1.5 * IQR, \n",
        "        \"right\": column.quantile(0.75) + 1.5 * IQR\n",
        "      }\n",
        "      print(column_name, outliners)\n",
        "\n",
        "    \n",
        "show_outliners()"
      ],
      "execution_count": 12,
      "outputs": [
        {
          "output_type": "stream",
          "name": "stdout",
          "text": "('age', {'right': 21.0, 'left': 13.0})\n('absences', {'right': 20.0, 'left': -12.0})\n('score', {'right': 115.0, 'left': -5.0})\n"
        }
      ]
    },
    {
      "cell_type": "markdown",
      "metadata": {
        "id": "knGb4IzCSYmu",
        "colab_type": "text"
      },
      "source": [
        "Подобный подход предлагает считать выбросами возраста старше 21. Думаю, сюда же можно включить и 20. Слишком уж мало учеников с таким возрастом, чтобы полагаться на эти значения.\n",
        "\n",
        "Со значениями выбросов для пропусков пожалуй согласимся.\n",
        "\n",
        "Выбросов в oценках как видим нет.\n",
        "\n",
        "Объединим все все возроста от 20 лет в один и будет считать что это 20 лет и страше.\n",
        "\n",
        "Удалим в столбце пропуски значение более 200 а значение более 20 объединим в одно и будем считать что это 20 и более."
      ]
    },
    {
      "cell_type": "code",
      "metadata": {
        "id": "-XIG7HC6UXfF",
        "colab_type": "code",
        "colab": {
          "base_uri": "https://localhost:8080/",
          "height": 0
        },
        "outputId": "c4d6090e-6ff7-4f3b-a422-312c4bfcb4bf",
        "tags": []
      },
      "source": [
        "df['age'][df['age'] >= 20] = 20"
      ],
      "execution_count": 13,
      "outputs": [
        {
          "output_type": "stream",
          "name": "stderr",
          "text": "/home/andrei/.local/lib/python2.7/site-packages/ipykernel_launcher.py:1: SettingWithCopyWarning: \nA value is trying to be set on a copy of a slice from a DataFrame\n\nSee the caveats in the documentation: http://pandas.pydata.org/pandas-docs/stable/indexing.html#indexing-view-versus-copy\n  \"\"\"Entry point for launching an IPython kernel.\n"
        }
      ]
    },
    {
      "cell_type": "code",
      "metadata": {
        "id": "lWTjl1Ijgs70",
        "colab_type": "code",
        "colab": {
          "base_uri": "https://localhost:8080/",
          "height": 0
        },
        "outputId": "a2b5494e-80ee-44f3-b6e4-b06d1974ad9c",
        "tags": []
      },
      "source": [
        "df[\"absences\"][df[\"absences\"] > 200] = -2"
      ],
      "execution_count": 14,
      "outputs": [
        {
          "output_type": "stream",
          "name": "stderr",
          "text": "/home/andrei/.local/lib/python2.7/site-packages/ipykernel_launcher.py:1: SettingWithCopyWarning: \nA value is trying to be set on a copy of a slice from a DataFrame\n\nSee the caveats in the documentation: http://pandas.pydata.org/pandas-docs/stable/indexing.html#indexing-view-versus-copy\n  \"\"\"Entry point for launching an IPython kernel.\n"
        }
      ]
    },
    {
      "cell_type": "code",
      "metadata": {
        "id": "Q4J9YTc1hBnK",
        "colab_type": "code",
        "colab": {
          "base_uri": "https://localhost:8080/",
          "height": 0
        },
        "outputId": "169426c2-2a76-4c35-de0f-c186d06e3e52",
        "tags": []
      },
      "source": [
        "df[\"absences\"][df[\"absences\"] > 20] = 20"
      ],
      "execution_count": 15,
      "outputs": [
        {
          "output_type": "stream",
          "name": "stderr",
          "text": "/home/andrei/.local/lib/python2.7/site-packages/ipykernel_launcher.py:1: SettingWithCopyWarning: \nA value is trying to be set on a copy of a slice from a DataFrame\n\nSee the caveats in the documentation: http://pandas.pydata.org/pandas-docs/stable/indexing.html#indexing-view-versus-copy\n  \"\"\"Entry point for launching an IPython kernel.\n"
        }
      ]
    },
    {
      "cell_type": "markdown",
      "metadata": {
        "id": "mY2fsEewjS2y",
        "colab_type": "text"
      },
      "source": [
        "# Корреляция"
      ]
    },
    {
      "cell_type": "markdown",
      "metadata": {
        "id": "bGSsXQxelV2R",
        "colab_type": "text"
      },
      "source": [
        "Посмотрим корреляцию числовых значений на графиках."
      ]
    },
    {
      "cell_type": "code",
      "metadata": {
        "id": "RZeUjHQyjYsn",
        "colab_type": "code",
        "colab": {
          "base_uri": "https://localhost:8080/",
          "height": 585
        },
        "outputId": "ad0ddccb-bbab-4513-ff6b-0c355c2f24ce"
      },
      "source": [
        "sns.pairplot(df, kind = 'reg')"
      ],
      "execution_count": 16,
      "outputs": [
        {
          "output_type": "error",
          "ename": "NameError",
          "evalue": "name 'sns' is not defined",
          "traceback": [
            "\u001b[0;31m\u001b[0m",
            "\u001b[0;31mNameError\u001b[0mTraceback (most recent call last)",
            "\u001b[0;32m<ipython-input-16-868a2f30c9b0>\u001b[0m in \u001b[0;36m<module>\u001b[0;34m()\u001b[0m\n\u001b[0;32m----> 1\u001b[0;31m \u001b[0msns\u001b[0m\u001b[0;34m.\u001b[0m\u001b[0mpairplot\u001b[0m\u001b[0;34m(\u001b[0m\u001b[0mdf\u001b[0m\u001b[0;34m,\u001b[0m \u001b[0mkind\u001b[0m \u001b[0;34m=\u001b[0m \u001b[0;34m'reg'\u001b[0m\u001b[0;34m)\u001b[0m\u001b[0;34m\u001b[0m\u001b[0m\n\u001b[0m",
            "\u001b[0;31mNameError\u001b[0m: name 'sns' is not defined"
          ]
        }
      ]
    },
    {
      "cell_type": "markdown",
      "metadata": {
        "id": "G_9L57TUldtw",
        "colab_type": "text"
      },
      "source": [
        "Видим корреляцию с возрастом. Так же наблюдаем небольшую и странную корреляцию с пропусками занятий. Получается, те, кто пропускал больше, сдают экзамен лучше. Почему так? Заметим что среди оценок есть 0. Вероятно это те ученики, кто не пришел на экзамен. Удалим такие записи из нашего датафрейма, поскольку это не правильно учитывать их в анализе результатов экзамена."
      ]
    },
    {
      "cell_type": "code",
      "metadata": {
        "id": "7N9AXNiIrSVK",
        "colab_type": "code",
        "colab": {}
      },
      "source": [
        "df = df[df['score'] > 0]"
      ],
      "execution_count": 17,
      "outputs": []
    },
    {
      "cell_type": "code",
      "metadata": {
        "id": "4BpbsczHrtcu",
        "colab_type": "code",
        "colab": {
          "base_uri": "https://localhost:8080/",
          "height": 585
        },
        "outputId": "66c8aa85-cb20-4e1a-e308-747396782368"
      },
      "source": [
        "sns.pairplot(df, kind = 'reg')"
      ],
      "execution_count": 18,
      "outputs": [
        {
          "output_type": "error",
          "ename": "NameError",
          "evalue": "name 'sns' is not defined",
          "traceback": [
            "\u001b[0;31m\u001b[0m",
            "\u001b[0;31mNameError\u001b[0mTraceback (most recent call last)",
            "\u001b[0;32m<ipython-input-18-868a2f30c9b0>\u001b[0m in \u001b[0;36m<module>\u001b[0;34m()\u001b[0m\n\u001b[0;32m----> 1\u001b[0;31m \u001b[0msns\u001b[0m\u001b[0;34m.\u001b[0m\u001b[0mpairplot\u001b[0m\u001b[0;34m(\u001b[0m\u001b[0mdf\u001b[0m\u001b[0;34m,\u001b[0m \u001b[0mkind\u001b[0m \u001b[0;34m=\u001b[0m \u001b[0;34m'reg'\u001b[0m\u001b[0;34m)\u001b[0m\u001b[0;34m\u001b[0m\u001b[0m\n\u001b[0m",
            "\u001b[0;31mNameError\u001b[0m: name 'sns' is not defined"
          ]
        }
      ]
    },
    {
      "cell_type": "markdown",
      "metadata": {
        "id": "MUdarIQ7sDsn",
        "colab_type": "text"
      },
      "source": [
        "Теперь все логично, чем больше пропусков, тем ниже итоговая оценка.\n",
        "\n",
        "Признаем столбцы возраст и пропуски влияющими на итоговую оценку и оставляем их для дальнейшего построения модели."
      ]
    },
    {
      "cell_type": "markdown",
      "metadata": {
        "id": "SasG06zWseGX",
        "colab_type": "text"
      },
      "source": [
        "#Анализ номинативных переменных"
      ]
    },
    {
      "cell_type": "code",
      "metadata": {
        "id": "9tqeY4k5sNlu",
        "colab_type": "code",
        "colab": {
          "base_uri": "https://localhost:8080/",
          "height": 1000
        },
        "outputId": "7594f833-f6bf-4e69-aa46-e421d0d0f687"
      },
      "source": [
        "def countplots(df):\n",
        "  fig, axes = plt.subplots(9, 3, figsize = (22, 60))\n",
        "\n",
        "  count = 0\n",
        "\n",
        "  for column_name in df:\n",
        "    if df[column_name].dtype == 'object':\n",
        "\n",
        "      ax = axes[count // 3, count % 3]\n",
        "\n",
        "      df = df.sort_values(by = [column_name])\n",
        "\n",
        "      sns.boxplot(data = df, x = column_name, y = \"score\", ax = ax)\n",
        "\n",
        "      count += 1\n",
        "\n",
        "  fig.tight_layout() \n",
        "  fig.show()\n",
        "\n",
        "\n",
        "countplots(df)"
      ],
      "execution_count": 19,
      "outputs": [
        {
          "output_type": "error",
          "ename": "NameError",
          "evalue": "global name 'plt' is not defined",
          "traceback": [
            "\u001b[0;31m\u001b[0m",
            "\u001b[0;31mNameError\u001b[0mTraceback (most recent call last)",
            "\u001b[0;32m<ipython-input-19-18c6e011aadb>\u001b[0m in \u001b[0;36m<module>\u001b[0;34m()\u001b[0m\n\u001b[1;32m     19\u001b[0m \u001b[0;34m\u001b[0m\u001b[0m\n\u001b[1;32m     20\u001b[0m \u001b[0;34m\u001b[0m\u001b[0m\n\u001b[0;32m---> 21\u001b[0;31m \u001b[0mcountplots\u001b[0m\u001b[0;34m(\u001b[0m\u001b[0mdf\u001b[0m\u001b[0;34m)\u001b[0m\u001b[0;34m\u001b[0m\u001b[0m\n\u001b[0m",
            "\u001b[0;32m<ipython-input-19-18c6e011aadb>\u001b[0m in \u001b[0;36mcountplots\u001b[0;34m(df)\u001b[0m\n\u001b[1;32m      1\u001b[0m \u001b[0;32mdef\u001b[0m \u001b[0mcountplots\u001b[0m\u001b[0;34m(\u001b[0m\u001b[0mdf\u001b[0m\u001b[0;34m)\u001b[0m\u001b[0;34m:\u001b[0m\u001b[0;34m\u001b[0m\u001b[0m\n\u001b[0;32m----> 2\u001b[0;31m   \u001b[0mfig\u001b[0m\u001b[0;34m,\u001b[0m \u001b[0maxes\u001b[0m \u001b[0;34m=\u001b[0m \u001b[0mplt\u001b[0m\u001b[0;34m.\u001b[0m\u001b[0msubplots\u001b[0m\u001b[0;34m(\u001b[0m\u001b[0;36m9\u001b[0m\u001b[0;34m,\u001b[0m \u001b[0;36m3\u001b[0m\u001b[0;34m,\u001b[0m \u001b[0mfigsize\u001b[0m \u001b[0;34m=\u001b[0m \u001b[0;34m(\u001b[0m\u001b[0;36m22\u001b[0m\u001b[0;34m,\u001b[0m \u001b[0;36m60\u001b[0m\u001b[0;34m)\u001b[0m\u001b[0;34m)\u001b[0m\u001b[0;34m\u001b[0m\u001b[0m\n\u001b[0m\u001b[1;32m      3\u001b[0m \u001b[0;34m\u001b[0m\u001b[0m\n\u001b[1;32m      4\u001b[0m   \u001b[0mcount\u001b[0m \u001b[0;34m=\u001b[0m \u001b[0;36m0\u001b[0m\u001b[0;34m\u001b[0m\u001b[0m\n\u001b[1;32m      5\u001b[0m \u001b[0;34m\u001b[0m\u001b[0m\n",
            "\u001b[0;31mNameError\u001b[0m: global name 'plt' is not defined"
          ]
        }
      ]
    },
    {
      "cell_type": "markdown",
      "metadata": {
        "id": "q4-M2zXG212D",
        "colab_type": "text"
      },
      "source": [
        "Можем заметить, что итоговый резултат лучше у\n",
        "* юношей\n",
        "* детей отцов учителей и матерей работающих в сфере здравоохранения\n",
        "* тех, кто гулял меньше\n",
        "* тех, у кого здоровье хуже\n",
        "\n",
        "и так далее, все перечислять не будем, все это видно на диаграммах.\n",
        "\n",
        "Есть несколько интересных моментов.\n",
        "\n",
        "Оценка сильно зависит от уровня образования матери, чем уровень выше, тем оценка выше. Тем не менее выделяются результаты учеников, у матерей которых нет образоывания. Интересно почему?\n",
        "\n",
        "Также интеерсно, почему с образованием отцов такой зависимости нет.\n",
        "\n",
        "Еще один интересный столбец - количество внеучебных неудач. Чем их меньше, тем результат лучше. Особняком стоит значение 0 (другое), мы не можем знать, что оно означает (меньше 1 или больше 3), следуя общей логике можно предположить, что меньше 1. \n",
        "\n"
      ]
    },
    {
      "cell_type": "markdown",
      "metadata": {
        "id": "TJ3FNYkV59_t",
        "colab_type": "text"
      },
      "source": [
        "Сделаем тест Стюдента"
      ]
    },
    {
      "cell_type": "code",
      "metadata": {
        "id": "qca0Olso0cwu",
        "colab_type": "code",
        "colab": {
          "base_uri": "https://localhost:8080/",
          "height": 269
        },
        "outputId": "72934ae4-e6b7-4b72-b738-9b359b7a79b5"
      },
      "source": [
        "for col in df.columns:\n",
        "    \n",
        "    combs = list(combinations(df[col].unique(), 2))\n",
        "    \n",
        "    for a, b in combs:\n",
        "        a_values = df.loc[df[col] == a, 'score']\n",
        "        b_values = df.loc[df[col] == b, 'score']        \n",
        "        pval = ttest_ind(a_values, b_values).pvalue\n",
        "        if pval <= (0.05 / len(combs)):\n",
        "            print(f\"Найдены статистически значимые различия для колонки {col}\")\n",
        "            break"
      ],
      "execution_count": 20,
      "outputs": [
        {
          "output_type": "error",
          "ename": "SyntaxError",
          "evalue": "invalid syntax (<ipython-input-20-d7cd5aa54562>, line 10)",
          "traceback": [
            "\u001b[0;36m  File \u001b[0;32m\"<ipython-input-20-d7cd5aa54562>\"\u001b[0;36m, line \u001b[0;32m10\u001b[0m\n\u001b[0;31m    print(f\"Найдены статистически значимые различия для колонки {col}\")\u001b[0m\n\u001b[0m                                                                       \n^\u001b[0m\n\u001b[0;31mSyntaxError\u001b[0m\u001b[0;31m:\u001b[0m invalid syntax\n"
          ]
        }
      ]
    },
    {
      "cell_type": "markdown",
      "metadata": {
        "id": "R4_bMlbjAtQb",
        "colab_type": "text"
      },
      "source": [
        "Оставляем в нашем датасете только статистически значимые столбцы."
      ]
    },
    {
      "cell_type": "code",
      "metadata": {
        "id": "ck1Bvq0BBBya",
        "colab_type": "code",
        "colab": {}
      },
      "source": [
        "res = df.loc[:, ['address', 'age', 'medu', 'fedu', 'mjob', 'fjob', 'studytime', 'failures', 'schoolsup', 'goout', 'absences', 'score']]"
      ],
      "execution_count": 21,
      "outputs": []
    },
    {
      "cell_type": "code",
      "metadata": {
        "id": "_lT1HOGwBkeF",
        "colab_type": "code",
        "colab": {
          "base_uri": "https://localhost:8080/",
          "height": 419
        },
        "outputId": "2ebc2e2d-4b59-40b7-a3ab-ac454d8e4f33"
      },
      "source": [
        "res"
      ],
      "execution_count": 22,
      "outputs": [
        {
          "output_type": "execute_result",
          "data": {
            "text/plain": "        address  age               medu               fedu            mjob  \\\n0         город   18          4) высшее          4) высшее     не работает   \n1         город   17            1) 4 кл            1) 4 кл     не работает   \n2         город   15            1) 4 кл            1) 4 кл     не работает   \n3         город   15          4) высшее          2) 5-9 кл  здравохранение   \n4         город   16  3) 11 кл / ср.сп.  3) 11 кл / ср.сп.         .другое   \n5         город   16          4) высшее  3) 11 кл / ср.сп.      гос.служба   \n6             -   16          2) 5-9 кл          2) 5-9 кл         .другое   \n7         город   17          4) высшее          4) высшее         .другое   \n8         город   15  3) 11 кл / ср.сп.          2) 5-9 кл      гос.служба   \n9         город   15  3) 11 кл / ср.сп.          4) высшее         .другое   \n10        город   15          4) высшее          4) высшее         учитель   \n11        город   15          2) 5-9 кл          4) высшее      гос.служба   \n12        город   15          4) высшее          4) высшее  здравохранение   \n13        город   15          4) высшее  3) 11 кл / ср.сп.         учитель   \n14        город   15          2) 5-9 кл          2) 5-9 кл         .другое   \n15        город   16          4) высшее          4) высшее  здравохранение   \n16        город   16          4) высшее          4) высшее      гос.служба   \n17        город   16  3) 11 кл / ср.сп.  3) 11 кл / ср.сп.         .другое   \n18        город   17  3) 11 кл / ср.сп.          2) 5-9 кл      гос.служба   \n19        город   16          4) высшее  3) 11 кл / ср.сп.  здравохранение   \n20        город   15          4) высшее  3) 11 кл / ср.сп.         учитель   \n21        город   15          4) высшее                  -  здравохранение   \n22        город   16          4) высшее          2) 5-9 кл         учитель   \n23        город   16          2) 5-9 кл          2) 5-9 кл         .другое   \n24   за городом   15          2) 5-9 кл          4) высшее      гос.служба   \n25        город   16          2) 5-9 кл          2) 5-9 кл      гос.служба   \n26        город   15          2) 5-9 кл          2) 5-9 кл         .другое   \n27        город   15          4) высшее          2) 5-9 кл  здравохранение   \n28        город   16  3) 11 кл / ср.сп.          4) высшее      гос.служба   \n29        город   16          4) высшее          4) высшее               -   \n..          ...  ...                ...                ...             ...   \n361  за городом   18            1) 4 кл            1) 4 кл     не работает   \n362       город   18  3) 11 кл / ср.сп.  3) 11 кл / ср.сп.      гос.служба   \n363       город   17          4) высшее          4) высшее     не работает   \n364  за городом   17            1) 4 кл          2) 5-9 кл         .другое   \n365  за городом   18            1) 4 кл  3) 11 кл / ср.сп.     не работает   \n366       город   18          4) высшее          4) высшее         учитель   \n368       город   18          2) 5-9 кл  3) 11 кл / ср.сп.     не работает   \n369  за городом   18          4) высшее          4) высшее         .другое   \n370       город   19  3) 11 кл / ср.сп.          2) 5-9 кл      гос.служба   \n371  за городом   18            1) 4 кл          2) 5-9 кл     не работает   \n372           -   17          2) 5-9 кл          2) 5-9 кл         .другое   \n373  за городом   17            1) 4 кл          2) 5-9 кл         .другое   \n374  за городом   18          4) высшее                  -         .другое   \n375  за городом   18            1) 4 кл            1) 4 кл         .другое   \n376           -   20          4) высшее          2) 5-9 кл  здравохранение   \n377  за городом   18          4) высшее          4) высшее         учитель   \n378       город   18  3) 11 кл / ср.сп.  3) 11 кл / ср.сп.         .другое   \n379  за городом   17  3) 11 кл / ср.сп.            1) 4 кл     не работает   \n380       город   18          4) высшее          4) высшее         учитель   \n381  за городом   18          2) 5-9 кл            1) 4 кл         .другое   \n382       город   17          2) 5-9 кл  3) 11 кл / ср.сп.         .другое   \n384  за городом   18          4) высшее          2) 5-9 кл         .другое   \n385  за городом   18          2) 5-9 кл          2) 5-9 кл     не работает   \n386  за городом   18          4) высшее          4) высшее         учитель   \n388       город   18  3) 11 кл / ср.сп.            1) 4 кл         учитель   \n390       город   20          2) 5-9 кл          2) 5-9 кл      гос.служба   \n391       город   17  3) 11 кл / ср.сп.            1) 4 кл      гос.служба   \n392  за городом   20            1) 4 кл            1) 4 кл         .другое   \n393  за городом   18  3) 11 кл / ср.сп.          2) 5-9 кл      гос.служба   \n394       город   19            1) 4 кл            1) 4 кл         .другое   \n\n               fjob studytime failures schoolsup        goout  absences  score  \n0           учитель    2) 2-5   другое        да     4) много       6.0   30.0  \n1           .другое    2) 2-5   другое       нет      3) норм       4.0   30.0  \n2           .другое    2) 2-5        3        да      2) мало      10.0   50.0  \n3                 -   3) 5-10   другое       нет      2) мало       2.0   75.0  \n4           .другое    2) 2-5   другое       нет      2) мало       4.0   50.0  \n5           .другое    2) 2-5   другое       нет      2) мало      10.0   75.0  \n6           .другое    2) 2-5   другое       нет     4) много       0.0   55.0  \n7           учитель    2) 2-5   другое        да     4) много       6.0   30.0  \n8           .другое    2) 2-5   другое       нет      2) мало       0.0   95.0  \n9           .другое    2) 2-5   другое       нет   1) оч мало       0.0   75.0  \n10   здравохранение    2) 2-5   другое       нет      3) норм       0.0   45.0  \n11          .другое   3) 5-10   другое       нет      2) мало       4.0   60.0  \n12       гос.служба    1) < 2   другое       нет      3) норм       2.0   70.0  \n13          .другое    2) 2-5   другое       нет      3) норм       2.0   55.0  \n14          .другое   3) 5-10   другое       нет      2) мало       0.0   80.0  \n15          .другое    1) < 2   другое       нет     4) много       4.0   70.0  \n16       гос.служба   3) 5-10   другое       нет      3) норм       6.0   70.0  \n17                -         -   другое        да      2) мало       4.0   50.0  \n18       гос.служба    1) < 2        3       нет  5) оч много      16.0   25.0  \n19          .другое    1) < 2   другое       нет      3) норм       4.0   50.0  \n20          .другое    2) 2-5   другое       нет   1) оч мало       0.0   75.0  \n21   здравохранение    1) < 2        -       нет      2) мало       0.0   75.0  \n22                -    2) 2-5   другое       нет   1) оч мало       2.0   80.0  \n23          .другое    2) 2-5   другое       нет     4) много       0.0   60.0  \n24   здравохранение   3) 5-10   другое        да      2) мало      -2.0   40.0  \n25       гос.служба    1) < 2        2       нет      2) мало      14.0   40.0  \n26                -    1) < 2   другое       нет      2) мало       2.0   55.0  \n27       гос.служба    1) < 2   другое         -     4) много       4.0   75.0  \n28          .другое    2) 2-5   другое        да      3) норм       4.0   55.0  \n29          учитель    2) 2-5   другое       нет  5) оч много      16.0   55.0  \n..              ...       ...      ...       ...          ...       ...    ...  \n361         .другое    2) 2-5        1       нет      3) норм       2.0   60.0  \n362      гос.служба    2) 2-5   другое       нет      2) мало       0.0   50.0  \n363               -    2) 2-5   другое       нет     4) много       0.0   75.0  \n364      гос.служба    2) 2-5   другое       нет      2) мало       0.0   60.0  \n365               -    2) 2-5   другое       нет     4) много       4.0   50.0  \n366      гос.служба   3) 5-10   другое       нет      2) мало       0.0   65.0  \n368      гос.служба    1) < 2   другое       нет      3) норм       0.0   50.0  \n369         учитель    2) 2-5   другое       нет      2) мало      10.0   55.0  \n370      гос.служба    2) 2-5        2       нет      2) мало       4.0   45.0  \n371      гос.служба    1) < 2   другое       нет      3) норм       3.0   60.0  \n372     не работает   3) 5-10   другое       нет      3) норм       8.0   55.0  \n373               -    1) < 2   другое       нет  5) оч много      14.0   25.0  \n374               -   3) 5-10   другое       нет     4) много       0.0   95.0  \n375         .другое   3) 5-10   другое       нет      2) мало       2.0   50.0  \n376         .другое   3) 5-10        2       нет      3) норм       4.0   75.0  \n377      гос.служба    2) 2-5   другое       нет      3) норм       4.0   50.0  \n378         .другое    2) 2-5   другое       нет      3) норм       0.0   75.0  \n379         .другое    2) 2-5   другое       нет     4) много      17.0   50.0  \n380         учитель    2) 2-5   другое       нет     4) много       4.0   70.0  \n381         .другое    1) < 2   другое       нет      3) норм       5.0   35.0  \n382      гос.служба    2) 2-5   другое       нет      3) норм       2.0   50.0  \n384               -    1) < 2        1       нет      3) норм      14.0   25.0  \n385         .другое   3) 5-10   другое       нет      3) норм       2.0   50.0  \n386     не работает    1) < 2   другое       нет      3) норм       7.0   30.0  \n388      гос.служба    2) 2-5   другое       нет     4) много       0.0   40.0  \n390      гос.служба    2) 2-5        2       нет     4) много      -2.0   45.0  \n391      гос.служба    1) < 2   другое       нет  5) оч много       3.0   80.0  \n392         .другое    1) < 2        3         -      3) норм       3.0   35.0  \n393         .другое    1) < 2   другое       нет   1) оч мало       0.0   50.0  \n394     не работает    1) < 2   другое         -      3) норм       5.0   45.0  \n\n[352 rows x 12 columns]",
            "text/html": "<div>\n<style scoped>\n    .dataframe tbody tr th:only-of-type {\n        vertical-align: middle;\n    }\n\n    .dataframe tbody tr th {\n        vertical-align: top;\n    }\n\n    .dataframe thead th {\n        text-align: right;\n    }\n</style>\n<table border=\"1\" class=\"dataframe\">\n  <thead>\n    <tr style=\"text-align: right;\">\n      <th></th>\n      <th>address</th>\n      <th>age</th>\n      <th>medu</th>\n      <th>fedu</th>\n      <th>mjob</th>\n      <th>fjob</th>\n      <th>studytime</th>\n      <th>failures</th>\n      <th>schoolsup</th>\n      <th>goout</th>\n      <th>absences</th>\n      <th>score</th>\n    </tr>\n  </thead>\n  <tbody>\n    <tr>\n      <th>0</th>\n      <td>город</td>\n      <td>18</td>\n      <td>4) высшее</td>\n      <td>4) высшее</td>\n      <td>не работает</td>\n      <td>учитель</td>\n      <td>2) 2-5</td>\n      <td>другое</td>\n      <td>да</td>\n      <td>4) много</td>\n      <td>6.0</td>\n      <td>30.0</td>\n    </tr>\n    <tr>\n      <th>1</th>\n      <td>город</td>\n      <td>17</td>\n      <td>1) 4 кл</td>\n      <td>1) 4 кл</td>\n      <td>не работает</td>\n      <td>.другое</td>\n      <td>2) 2-5</td>\n      <td>другое</td>\n      <td>нет</td>\n      <td>3) норм</td>\n      <td>4.0</td>\n      <td>30.0</td>\n    </tr>\n    <tr>\n      <th>2</th>\n      <td>город</td>\n      <td>15</td>\n      <td>1) 4 кл</td>\n      <td>1) 4 кл</td>\n      <td>не работает</td>\n      <td>.другое</td>\n      <td>2) 2-5</td>\n      <td>3</td>\n      <td>да</td>\n      <td>2) мало</td>\n      <td>10.0</td>\n      <td>50.0</td>\n    </tr>\n    <tr>\n      <th>3</th>\n      <td>город</td>\n      <td>15</td>\n      <td>4) высшее</td>\n      <td>2) 5-9 кл</td>\n      <td>здравохранение</td>\n      <td>-</td>\n      <td>3) 5-10</td>\n      <td>другое</td>\n      <td>нет</td>\n      <td>2) мало</td>\n      <td>2.0</td>\n      <td>75.0</td>\n    </tr>\n    <tr>\n      <th>4</th>\n      <td>город</td>\n      <td>16</td>\n      <td>3) 11 кл / ср.сп.</td>\n      <td>3) 11 кл / ср.сп.</td>\n      <td>.другое</td>\n      <td>.другое</td>\n      <td>2) 2-5</td>\n      <td>другое</td>\n      <td>нет</td>\n      <td>2) мало</td>\n      <td>4.0</td>\n      <td>50.0</td>\n    </tr>\n    <tr>\n      <th>5</th>\n      <td>город</td>\n      <td>16</td>\n      <td>4) высшее</td>\n      <td>3) 11 кл / ср.сп.</td>\n      <td>гос.служба</td>\n      <td>.другое</td>\n      <td>2) 2-5</td>\n      <td>другое</td>\n      <td>нет</td>\n      <td>2) мало</td>\n      <td>10.0</td>\n      <td>75.0</td>\n    </tr>\n    <tr>\n      <th>6</th>\n      <td>-</td>\n      <td>16</td>\n      <td>2) 5-9 кл</td>\n      <td>2) 5-9 кл</td>\n      <td>.другое</td>\n      <td>.другое</td>\n      <td>2) 2-5</td>\n      <td>другое</td>\n      <td>нет</td>\n      <td>4) много</td>\n      <td>0.0</td>\n      <td>55.0</td>\n    </tr>\n    <tr>\n      <th>7</th>\n      <td>город</td>\n      <td>17</td>\n      <td>4) высшее</td>\n      <td>4) высшее</td>\n      <td>.другое</td>\n      <td>учитель</td>\n      <td>2) 2-5</td>\n      <td>другое</td>\n      <td>да</td>\n      <td>4) много</td>\n      <td>6.0</td>\n      <td>30.0</td>\n    </tr>\n    <tr>\n      <th>8</th>\n      <td>город</td>\n      <td>15</td>\n      <td>3) 11 кл / ср.сп.</td>\n      <td>2) 5-9 кл</td>\n      <td>гос.служба</td>\n      <td>.другое</td>\n      <td>2) 2-5</td>\n      <td>другое</td>\n      <td>нет</td>\n      <td>2) мало</td>\n      <td>0.0</td>\n      <td>95.0</td>\n    </tr>\n    <tr>\n      <th>9</th>\n      <td>город</td>\n      <td>15</td>\n      <td>3) 11 кл / ср.сп.</td>\n      <td>4) высшее</td>\n      <td>.другое</td>\n      <td>.другое</td>\n      <td>2) 2-5</td>\n      <td>другое</td>\n      <td>нет</td>\n      <td>1) оч мало</td>\n      <td>0.0</td>\n      <td>75.0</td>\n    </tr>\n    <tr>\n      <th>10</th>\n      <td>город</td>\n      <td>15</td>\n      <td>4) высшее</td>\n      <td>4) высшее</td>\n      <td>учитель</td>\n      <td>здравохранение</td>\n      <td>2) 2-5</td>\n      <td>другое</td>\n      <td>нет</td>\n      <td>3) норм</td>\n      <td>0.0</td>\n      <td>45.0</td>\n    </tr>\n    <tr>\n      <th>11</th>\n      <td>город</td>\n      <td>15</td>\n      <td>2) 5-9 кл</td>\n      <td>4) высшее</td>\n      <td>гос.служба</td>\n      <td>.другое</td>\n      <td>3) 5-10</td>\n      <td>другое</td>\n      <td>нет</td>\n      <td>2) мало</td>\n      <td>4.0</td>\n      <td>60.0</td>\n    </tr>\n    <tr>\n      <th>12</th>\n      <td>город</td>\n      <td>15</td>\n      <td>4) высшее</td>\n      <td>4) высшее</td>\n      <td>здравохранение</td>\n      <td>гос.служба</td>\n      <td>1) &lt; 2</td>\n      <td>другое</td>\n      <td>нет</td>\n      <td>3) норм</td>\n      <td>2.0</td>\n      <td>70.0</td>\n    </tr>\n    <tr>\n      <th>13</th>\n      <td>город</td>\n      <td>15</td>\n      <td>4) высшее</td>\n      <td>3) 11 кл / ср.сп.</td>\n      <td>учитель</td>\n      <td>.другое</td>\n      <td>2) 2-5</td>\n      <td>другое</td>\n      <td>нет</td>\n      <td>3) норм</td>\n      <td>2.0</td>\n      <td>55.0</td>\n    </tr>\n    <tr>\n      <th>14</th>\n      <td>город</td>\n      <td>15</td>\n      <td>2) 5-9 кл</td>\n      <td>2) 5-9 кл</td>\n      <td>.другое</td>\n      <td>.другое</td>\n      <td>3) 5-10</td>\n      <td>другое</td>\n      <td>нет</td>\n      <td>2) мало</td>\n      <td>0.0</td>\n      <td>80.0</td>\n    </tr>\n    <tr>\n      <th>15</th>\n      <td>город</td>\n      <td>16</td>\n      <td>4) высшее</td>\n      <td>4) высшее</td>\n      <td>здравохранение</td>\n      <td>.другое</td>\n      <td>1) &lt; 2</td>\n      <td>другое</td>\n      <td>нет</td>\n      <td>4) много</td>\n      <td>4.0</td>\n      <td>70.0</td>\n    </tr>\n    <tr>\n      <th>16</th>\n      <td>город</td>\n      <td>16</td>\n      <td>4) высшее</td>\n      <td>4) высшее</td>\n      <td>гос.служба</td>\n      <td>гос.служба</td>\n      <td>3) 5-10</td>\n      <td>другое</td>\n      <td>нет</td>\n      <td>3) норм</td>\n      <td>6.0</td>\n      <td>70.0</td>\n    </tr>\n    <tr>\n      <th>17</th>\n      <td>город</td>\n      <td>16</td>\n      <td>3) 11 кл / ср.сп.</td>\n      <td>3) 11 кл / ср.сп.</td>\n      <td>.другое</td>\n      <td>-</td>\n      <td>-</td>\n      <td>другое</td>\n      <td>да</td>\n      <td>2) мало</td>\n      <td>4.0</td>\n      <td>50.0</td>\n    </tr>\n    <tr>\n      <th>18</th>\n      <td>город</td>\n      <td>17</td>\n      <td>3) 11 кл / ср.сп.</td>\n      <td>2) 5-9 кл</td>\n      <td>гос.служба</td>\n      <td>гос.служба</td>\n      <td>1) &lt; 2</td>\n      <td>3</td>\n      <td>нет</td>\n      <td>5) оч много</td>\n      <td>16.0</td>\n      <td>25.0</td>\n    </tr>\n    <tr>\n      <th>19</th>\n      <td>город</td>\n      <td>16</td>\n      <td>4) высшее</td>\n      <td>3) 11 кл / ср.сп.</td>\n      <td>здравохранение</td>\n      <td>.другое</td>\n      <td>1) &lt; 2</td>\n      <td>другое</td>\n      <td>нет</td>\n      <td>3) норм</td>\n      <td>4.0</td>\n      <td>50.0</td>\n    </tr>\n    <tr>\n      <th>20</th>\n      <td>город</td>\n      <td>15</td>\n      <td>4) высшее</td>\n      <td>3) 11 кл / ср.сп.</td>\n      <td>учитель</td>\n      <td>.другое</td>\n      <td>2) 2-5</td>\n      <td>другое</td>\n      <td>нет</td>\n      <td>1) оч мало</td>\n      <td>0.0</td>\n      <td>75.0</td>\n    </tr>\n    <tr>\n      <th>21</th>\n      <td>город</td>\n      <td>15</td>\n      <td>4) высшее</td>\n      <td>-</td>\n      <td>здравохранение</td>\n      <td>здравохранение</td>\n      <td>1) &lt; 2</td>\n      <td>-</td>\n      <td>нет</td>\n      <td>2) мало</td>\n      <td>0.0</td>\n      <td>75.0</td>\n    </tr>\n    <tr>\n      <th>22</th>\n      <td>город</td>\n      <td>16</td>\n      <td>4) высшее</td>\n      <td>2) 5-9 кл</td>\n      <td>учитель</td>\n      <td>-</td>\n      <td>2) 2-5</td>\n      <td>другое</td>\n      <td>нет</td>\n      <td>1) оч мало</td>\n      <td>2.0</td>\n      <td>80.0</td>\n    </tr>\n    <tr>\n      <th>23</th>\n      <td>город</td>\n      <td>16</td>\n      <td>2) 5-9 кл</td>\n      <td>2) 5-9 кл</td>\n      <td>.другое</td>\n      <td>.другое</td>\n      <td>2) 2-5</td>\n      <td>другое</td>\n      <td>нет</td>\n      <td>4) много</td>\n      <td>0.0</td>\n      <td>60.0</td>\n    </tr>\n    <tr>\n      <th>24</th>\n      <td>за городом</td>\n      <td>15</td>\n      <td>2) 5-9 кл</td>\n      <td>4) высшее</td>\n      <td>гос.служба</td>\n      <td>здравохранение</td>\n      <td>3) 5-10</td>\n      <td>другое</td>\n      <td>да</td>\n      <td>2) мало</td>\n      <td>-2.0</td>\n      <td>40.0</td>\n    </tr>\n    <tr>\n      <th>25</th>\n      <td>город</td>\n      <td>16</td>\n      <td>2) 5-9 кл</td>\n      <td>2) 5-9 кл</td>\n      <td>гос.служба</td>\n      <td>гос.служба</td>\n      <td>1) &lt; 2</td>\n      <td>2</td>\n      <td>нет</td>\n      <td>2) мало</td>\n      <td>14.0</td>\n      <td>40.0</td>\n    </tr>\n    <tr>\n      <th>26</th>\n      <td>город</td>\n      <td>15</td>\n      <td>2) 5-9 кл</td>\n      <td>2) 5-9 кл</td>\n      <td>.другое</td>\n      <td>-</td>\n      <td>1) &lt; 2</td>\n      <td>другое</td>\n      <td>нет</td>\n      <td>2) мало</td>\n      <td>2.0</td>\n      <td>55.0</td>\n    </tr>\n    <tr>\n      <th>27</th>\n      <td>город</td>\n      <td>15</td>\n      <td>4) высшее</td>\n      <td>2) 5-9 кл</td>\n      <td>здравохранение</td>\n      <td>гос.служба</td>\n      <td>1) &lt; 2</td>\n      <td>другое</td>\n      <td>-</td>\n      <td>4) много</td>\n      <td>4.0</td>\n      <td>75.0</td>\n    </tr>\n    <tr>\n      <th>28</th>\n      <td>город</td>\n      <td>16</td>\n      <td>3) 11 кл / ср.сп.</td>\n      <td>4) высшее</td>\n      <td>гос.служба</td>\n      <td>.другое</td>\n      <td>2) 2-5</td>\n      <td>другое</td>\n      <td>да</td>\n      <td>3) норм</td>\n      <td>4.0</td>\n      <td>55.0</td>\n    </tr>\n    <tr>\n      <th>29</th>\n      <td>город</td>\n      <td>16</td>\n      <td>4) высшее</td>\n      <td>4) высшее</td>\n      <td>-</td>\n      <td>учитель</td>\n      <td>2) 2-5</td>\n      <td>другое</td>\n      <td>нет</td>\n      <td>5) оч много</td>\n      <td>16.0</td>\n      <td>55.0</td>\n    </tr>\n    <tr>\n      <th>...</th>\n      <td>...</td>\n      <td>...</td>\n      <td>...</td>\n      <td>...</td>\n      <td>...</td>\n      <td>...</td>\n      <td>...</td>\n      <td>...</td>\n      <td>...</td>\n      <td>...</td>\n      <td>...</td>\n      <td>...</td>\n    </tr>\n    <tr>\n      <th>361</th>\n      <td>за городом</td>\n      <td>18</td>\n      <td>1) 4 кл</td>\n      <td>1) 4 кл</td>\n      <td>не работает</td>\n      <td>.другое</td>\n      <td>2) 2-5</td>\n      <td>1</td>\n      <td>нет</td>\n      <td>3) норм</td>\n      <td>2.0</td>\n      <td>60.0</td>\n    </tr>\n    <tr>\n      <th>362</th>\n      <td>город</td>\n      <td>18</td>\n      <td>3) 11 кл / ср.сп.</td>\n      <td>3) 11 кл / ср.сп.</td>\n      <td>гос.служба</td>\n      <td>гос.служба</td>\n      <td>2) 2-5</td>\n      <td>другое</td>\n      <td>нет</td>\n      <td>2) мало</td>\n      <td>0.0</td>\n      <td>50.0</td>\n    </tr>\n    <tr>\n      <th>363</th>\n      <td>город</td>\n      <td>17</td>\n      <td>4) высшее</td>\n      <td>4) высшее</td>\n      <td>не работает</td>\n      <td>-</td>\n      <td>2) 2-5</td>\n      <td>другое</td>\n      <td>нет</td>\n      <td>4) много</td>\n      <td>0.0</td>\n      <td>75.0</td>\n    </tr>\n    <tr>\n      <th>364</th>\n      <td>за городом</td>\n      <td>17</td>\n      <td>1) 4 кл</td>\n      <td>2) 5-9 кл</td>\n      <td>.другое</td>\n      <td>гос.служба</td>\n      <td>2) 2-5</td>\n      <td>другое</td>\n      <td>нет</td>\n      <td>2) мало</td>\n      <td>0.0</td>\n      <td>60.0</td>\n    </tr>\n    <tr>\n      <th>365</th>\n      <td>за городом</td>\n      <td>18</td>\n      <td>1) 4 кл</td>\n      <td>3) 11 кл / ср.сп.</td>\n      <td>не работает</td>\n      <td>-</td>\n      <td>2) 2-5</td>\n      <td>другое</td>\n      <td>нет</td>\n      <td>4) много</td>\n      <td>4.0</td>\n      <td>50.0</td>\n    </tr>\n    <tr>\n      <th>366</th>\n      <td>город</td>\n      <td>18</td>\n      <td>4) высшее</td>\n      <td>4) высшее</td>\n      <td>учитель</td>\n      <td>гос.служба</td>\n      <td>3) 5-10</td>\n      <td>другое</td>\n      <td>нет</td>\n      <td>2) мало</td>\n      <td>0.0</td>\n      <td>65.0</td>\n    </tr>\n    <tr>\n      <th>368</th>\n      <td>город</td>\n      <td>18</td>\n      <td>2) 5-9 кл</td>\n      <td>3) 11 кл / ср.сп.</td>\n      <td>не работает</td>\n      <td>гос.служба</td>\n      <td>1) &lt; 2</td>\n      <td>другое</td>\n      <td>нет</td>\n      <td>3) норм</td>\n      <td>0.0</td>\n      <td>50.0</td>\n    </tr>\n    <tr>\n      <th>369</th>\n      <td>за городом</td>\n      <td>18</td>\n      <td>4) высшее</td>\n      <td>4) высшее</td>\n      <td>.другое</td>\n      <td>учитель</td>\n      <td>2) 2-5</td>\n      <td>другое</td>\n      <td>нет</td>\n      <td>2) мало</td>\n      <td>10.0</td>\n      <td>55.0</td>\n    </tr>\n    <tr>\n      <th>370</th>\n      <td>город</td>\n      <td>19</td>\n      <td>3) 11 кл / ср.сп.</td>\n      <td>2) 5-9 кл</td>\n      <td>гос.служба</td>\n      <td>гос.служба</td>\n      <td>2) 2-5</td>\n      <td>2</td>\n      <td>нет</td>\n      <td>2) мало</td>\n      <td>4.0</td>\n      <td>45.0</td>\n    </tr>\n    <tr>\n      <th>371</th>\n      <td>за городом</td>\n      <td>18</td>\n      <td>1) 4 кл</td>\n      <td>2) 5-9 кл</td>\n      <td>не работает</td>\n      <td>гос.служба</td>\n      <td>1) &lt; 2</td>\n      <td>другое</td>\n      <td>нет</td>\n      <td>3) норм</td>\n      <td>3.0</td>\n      <td>60.0</td>\n    </tr>\n    <tr>\n      <th>372</th>\n      <td>-</td>\n      <td>17</td>\n      <td>2) 5-9 кл</td>\n      <td>2) 5-9 кл</td>\n      <td>.другое</td>\n      <td>не работает</td>\n      <td>3) 5-10</td>\n      <td>другое</td>\n      <td>нет</td>\n      <td>3) норм</td>\n      <td>8.0</td>\n      <td>55.0</td>\n    </tr>\n    <tr>\n      <th>373</th>\n      <td>за городом</td>\n      <td>17</td>\n      <td>1) 4 кл</td>\n      <td>2) 5-9 кл</td>\n      <td>.другое</td>\n      <td>-</td>\n      <td>1) &lt; 2</td>\n      <td>другое</td>\n      <td>нет</td>\n      <td>5) оч много</td>\n      <td>14.0</td>\n      <td>25.0</td>\n    </tr>\n    <tr>\n      <th>374</th>\n      <td>за городом</td>\n      <td>18</td>\n      <td>4) высшее</td>\n      <td>-</td>\n      <td>.другое</td>\n      <td>-</td>\n      <td>3) 5-10</td>\n      <td>другое</td>\n      <td>нет</td>\n      <td>4) много</td>\n      <td>0.0</td>\n      <td>95.0</td>\n    </tr>\n    <tr>\n      <th>375</th>\n      <td>за городом</td>\n      <td>18</td>\n      <td>1) 4 кл</td>\n      <td>1) 4 кл</td>\n      <td>.другое</td>\n      <td>.другое</td>\n      <td>3) 5-10</td>\n      <td>другое</td>\n      <td>нет</td>\n      <td>2) мало</td>\n      <td>2.0</td>\n      <td>50.0</td>\n    </tr>\n    <tr>\n      <th>376</th>\n      <td>-</td>\n      <td>20</td>\n      <td>4) высшее</td>\n      <td>2) 5-9 кл</td>\n      <td>здравохранение</td>\n      <td>.другое</td>\n      <td>3) 5-10</td>\n      <td>2</td>\n      <td>нет</td>\n      <td>3) норм</td>\n      <td>4.0</td>\n      <td>75.0</td>\n    </tr>\n    <tr>\n      <th>377</th>\n      <td>за городом</td>\n      <td>18</td>\n      <td>4) высшее</td>\n      <td>4) высшее</td>\n      <td>учитель</td>\n      <td>гос.служба</td>\n      <td>2) 2-5</td>\n      <td>другое</td>\n      <td>нет</td>\n      <td>3) норм</td>\n      <td>4.0</td>\n      <td>50.0</td>\n    </tr>\n    <tr>\n      <th>378</th>\n      <td>город</td>\n      <td>18</td>\n      <td>3) 11 кл / ср.сп.</td>\n      <td>3) 11 кл / ср.сп.</td>\n      <td>.другое</td>\n      <td>.другое</td>\n      <td>2) 2-5</td>\n      <td>другое</td>\n      <td>нет</td>\n      <td>3) норм</td>\n      <td>0.0</td>\n      <td>75.0</td>\n    </tr>\n    <tr>\n      <th>379</th>\n      <td>за городом</td>\n      <td>17</td>\n      <td>3) 11 кл / ср.сп.</td>\n      <td>1) 4 кл</td>\n      <td>не работает</td>\n      <td>.другое</td>\n      <td>2) 2-5</td>\n      <td>другое</td>\n      <td>нет</td>\n      <td>4) много</td>\n      <td>17.0</td>\n      <td>50.0</td>\n    </tr>\n    <tr>\n      <th>380</th>\n      <td>город</td>\n      <td>18</td>\n      <td>4) высшее</td>\n      <td>4) высшее</td>\n      <td>учитель</td>\n      <td>учитель</td>\n      <td>2) 2-5</td>\n      <td>другое</td>\n      <td>нет</td>\n      <td>4) много</td>\n      <td>4.0</td>\n      <td>70.0</td>\n    </tr>\n    <tr>\n      <th>381</th>\n      <td>за городом</td>\n      <td>18</td>\n      <td>2) 5-9 кл</td>\n      <td>1) 4 кл</td>\n      <td>.другое</td>\n      <td>.другое</td>\n      <td>1) &lt; 2</td>\n      <td>другое</td>\n      <td>нет</td>\n      <td>3) норм</td>\n      <td>5.0</td>\n      <td>35.0</td>\n    </tr>\n    <tr>\n      <th>382</th>\n      <td>город</td>\n      <td>17</td>\n      <td>2) 5-9 кл</td>\n      <td>3) 11 кл / ср.сп.</td>\n      <td>.другое</td>\n      <td>гос.служба</td>\n      <td>2) 2-5</td>\n      <td>другое</td>\n      <td>нет</td>\n      <td>3) норм</td>\n      <td>2.0</td>\n      <td>50.0</td>\n    </tr>\n    <tr>\n      <th>384</th>\n      <td>за городом</td>\n      <td>18</td>\n      <td>4) высшее</td>\n      <td>2) 5-9 кл</td>\n      <td>.другое</td>\n      <td>-</td>\n      <td>1) &lt; 2</td>\n      <td>1</td>\n      <td>нет</td>\n      <td>3) норм</td>\n      <td>14.0</td>\n      <td>25.0</td>\n    </tr>\n    <tr>\n      <th>385</th>\n      <td>за городом</td>\n      <td>18</td>\n      <td>2) 5-9 кл</td>\n      <td>2) 5-9 кл</td>\n      <td>не работает</td>\n      <td>.другое</td>\n      <td>3) 5-10</td>\n      <td>другое</td>\n      <td>нет</td>\n      <td>3) норм</td>\n      <td>2.0</td>\n      <td>50.0</td>\n    </tr>\n    <tr>\n      <th>386</th>\n      <td>за городом</td>\n      <td>18</td>\n      <td>4) высшее</td>\n      <td>4) высшее</td>\n      <td>учитель</td>\n      <td>не работает</td>\n      <td>1) &lt; 2</td>\n      <td>другое</td>\n      <td>нет</td>\n      <td>3) норм</td>\n      <td>7.0</td>\n      <td>30.0</td>\n    </tr>\n    <tr>\n      <th>388</th>\n      <td>город</td>\n      <td>18</td>\n      <td>3) 11 кл / ср.сп.</td>\n      <td>1) 4 кл</td>\n      <td>учитель</td>\n      <td>гос.служба</td>\n      <td>2) 2-5</td>\n      <td>другое</td>\n      <td>нет</td>\n      <td>4) много</td>\n      <td>0.0</td>\n      <td>40.0</td>\n    </tr>\n    <tr>\n      <th>390</th>\n      <td>город</td>\n      <td>20</td>\n      <td>2) 5-9 кл</td>\n      <td>2) 5-9 кл</td>\n      <td>гос.служба</td>\n      <td>гос.служба</td>\n      <td>2) 2-5</td>\n      <td>2</td>\n      <td>нет</td>\n      <td>4) много</td>\n      <td>-2.0</td>\n      <td>45.0</td>\n    </tr>\n    <tr>\n      <th>391</th>\n      <td>город</td>\n      <td>17</td>\n      <td>3) 11 кл / ср.сп.</td>\n      <td>1) 4 кл</td>\n      <td>гос.служба</td>\n      <td>гос.служба</td>\n      <td>1) &lt; 2</td>\n      <td>другое</td>\n      <td>нет</td>\n      <td>5) оч много</td>\n      <td>3.0</td>\n      <td>80.0</td>\n    </tr>\n    <tr>\n      <th>392</th>\n      <td>за городом</td>\n      <td>20</td>\n      <td>1) 4 кл</td>\n      <td>1) 4 кл</td>\n      <td>.другое</td>\n      <td>.другое</td>\n      <td>1) &lt; 2</td>\n      <td>3</td>\n      <td>-</td>\n      <td>3) норм</td>\n      <td>3.0</td>\n      <td>35.0</td>\n    </tr>\n    <tr>\n      <th>393</th>\n      <td>за городом</td>\n      <td>18</td>\n      <td>3) 11 кл / ср.сп.</td>\n      <td>2) 5-9 кл</td>\n      <td>гос.служба</td>\n      <td>.другое</td>\n      <td>1) &lt; 2</td>\n      <td>другое</td>\n      <td>нет</td>\n      <td>1) оч мало</td>\n      <td>0.0</td>\n      <td>50.0</td>\n    </tr>\n    <tr>\n      <th>394</th>\n      <td>город</td>\n      <td>19</td>\n      <td>1) 4 кл</td>\n      <td>1) 4 кл</td>\n      <td>.другое</td>\n      <td>не работает</td>\n      <td>1) &lt; 2</td>\n      <td>другое</td>\n      <td>-</td>\n      <td>3) норм</td>\n      <td>5.0</td>\n      <td>45.0</td>\n    </tr>\n  </tbody>\n</table>\n<p>352 rows × 12 columns</p>\n</div>"
          },
          "metadata": {},
          "execution_count": 22
        }
      ]
    }
  ],
  "metadata": {
    "kernelspec": {
      "display_name": "Python 3",
      "language": "python",
      "name": "python3"
    },
    "language_info": {
      "codemirror_mode": {
        "name": "ipython",
        "version": 2
      },
      "file_extension": ".py",
      "mimetype": "text/x-python",
      "name": "python",
      "nbconvert_exporter": "python",
      "pygments_lexer": "ipython2",
      "version": "2.7.18-candidate"
    },
    "colab": {
      "name": "eda.ipynb",
      "provenance": [],
      "collapsed_sections": [
        "07oYrIcwEsNA",
        "mY2fsEewjS2y"
      ]
    }
  },
  "nbformat": 4,
  "nbformat_minor": 0
}