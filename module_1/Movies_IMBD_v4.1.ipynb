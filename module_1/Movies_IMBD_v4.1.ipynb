{
 "cells": [
  {
   "cell_type": "code",
   "execution_count": 33,
   "metadata": {
    "_cell_guid": "b1076dfc-b9ad-4769-8c92-a6c4dae69d19",
    "_uuid": "8f2839f25d086af736a60e9eeb907d3b93b6e0e5",
    "colab": {},
    "colab_type": "code",
    "id": "U2D2gTdJVp90"
   },
   "outputs": [],
   "source": [
    "import numpy as np\n",
    "import pandas as pd\n",
    "from collections import Counter\n",
    "from __future__ import division\n",
    "import math\n",
    "import itertools"
   ]
  },
  {
   "cell_type": "code",
   "execution_count": 4,
   "metadata": {
    "_cell_guid": "79c7e3d0-c299-4dcb-8224-4455121ee9b0",
    "_uuid": "d629ff2d2480ee46fbb7e2d37f6b5fab8052498a",
    "colab": {},
    "colab_type": "code",
    "id": "oyGfxL3eVp9-"
   },
   "outputs": [
    {
     "data": {
      "text/html": [
       "<div>\n",
       "<style scoped>\n",
       "    .dataframe tbody tr th:only-of-type {\n",
       "        vertical-align: middle;\n",
       "    }\n",
       "\n",
       "    .dataframe tbody tr th {\n",
       "        vertical-align: top;\n",
       "    }\n",
       "\n",
       "    .dataframe thead th {\n",
       "        text-align: right;\n",
       "    }\n",
       "</style>\n",
       "<table border=\"1\" class=\"dataframe\">\n",
       "  <thead>\n",
       "    <tr style=\"text-align: right;\">\n",
       "      <th></th>\n",
       "      <th>imdb_id</th>\n",
       "      <th>budget</th>\n",
       "      <th>revenue</th>\n",
       "      <th>original_title</th>\n",
       "      <th>cast</th>\n",
       "      <th>director</th>\n",
       "      <th>tagline</th>\n",
       "      <th>overview</th>\n",
       "      <th>runtime</th>\n",
       "      <th>genres</th>\n",
       "      <th>production_companies</th>\n",
       "      <th>release_date</th>\n",
       "      <th>vote_average</th>\n",
       "      <th>release_year</th>\n",
       "    </tr>\n",
       "  </thead>\n",
       "  <tbody>\n",
       "    <tr>\n",
       "      <th>251</th>\n",
       "      <td>tt1190080</td>\n",
       "      <td>200000000</td>\n",
       "      <td>769653595</td>\n",
       "      <td>2012</td>\n",
       "      <td>John Cusack|Amanda Peet|Chiwetel Ejiofor|Thand...</td>\n",
       "      <td>Roland Emmerich</td>\n",
       "      <td>We Were Warned.</td>\n",
       "      <td>Dr. Adrian Helmsley, part of a worldwide geoph...</td>\n",
       "      <td>158</td>\n",
       "      <td>Action|Adventure|Science Fiction</td>\n",
       "      <td>Columbia Pictures|Centropolis Entertainment|Th...</td>\n",
       "      <td>10/10/2009</td>\n",
       "      <td>5.6</td>\n",
       "      <td>2009</td>\n",
       "    </tr>\n",
       "    <tr>\n",
       "      <th>1293</th>\n",
       "      <td>tt2473682</td>\n",
       "      <td>5000000</td>\n",
       "      <td>86362372</td>\n",
       "      <td>Paranormal Activity: The Marked Ones</td>\n",
       "      <td>Richard Cabral|Carlos Pratts|Eddie J. Fernande...</td>\n",
       "      <td>Christopher B. Landon</td>\n",
       "      <td>You're one of us now.</td>\n",
       "      <td>Seventeen-year-old Jesse has been hearing terr...</td>\n",
       "      <td>84</td>\n",
       "      <td>Horror|Thriller</td>\n",
       "      <td>Blumhouse Productions|Room 101|Solana Films</td>\n",
       "      <td>12/31/2013</td>\n",
       "      <td>5.3</td>\n",
       "      <td>2013</td>\n",
       "    </tr>\n",
       "    <tr>\n",
       "      <th>1521</th>\n",
       "      <td>tt0482546</td>\n",
       "      <td>30000000</td>\n",
       "      <td>35078241</td>\n",
       "      <td>Miss Potter</td>\n",
       "      <td>Ewan McGregor|RenÃ©e Zellweger|Emily Watson|Ba...</td>\n",
       "      <td>Chris Noonan</td>\n",
       "      <td>The life of Beatrix Potter is the most enchant...</td>\n",
       "      <td>The story of Beatrix Potter, the author of the...</td>\n",
       "      <td>92</td>\n",
       "      <td>Drama|Family|Romance</td>\n",
       "      <td>BBC Films</td>\n",
       "      <td>12/3/2006</td>\n",
       "      <td>6.2</td>\n",
       "      <td>2006</td>\n",
       "    </tr>\n",
       "    <tr>\n",
       "      <th>1763</th>\n",
       "      <td>tt0427309</td>\n",
       "      <td>15000000</td>\n",
       "      <td>30226144</td>\n",
       "      <td>The Great Debaters</td>\n",
       "      <td>Denzel Washington|Nate Parker|Forest Whitaker|...</td>\n",
       "      <td>Denzel Washington</td>\n",
       "      <td>When the nation was in need, he inspired them ...</td>\n",
       "      <td>The true story of a brilliant but politically ...</td>\n",
       "      <td>126</td>\n",
       "      <td>Drama</td>\n",
       "      <td>The Weinstein Company|Harpo Films|Marshall Pro...</td>\n",
       "      <td>12/27/2007</td>\n",
       "      <td>6.6</td>\n",
       "      <td>2007</td>\n",
       "    </tr>\n",
       "    <tr>\n",
       "      <th>1432</th>\n",
       "      <td>tt0382628</td>\n",
       "      <td>30000000</td>\n",
       "      <td>25473093</td>\n",
       "      <td>Dark Water</td>\n",
       "      <td>Jennifer Connelly|John C. Reilly|Tim Roth|Doug...</td>\n",
       "      <td>Walter Salles</td>\n",
       "      <td>This Season, The Mystery Of The Darkness Will ...</td>\n",
       "      <td>Dahlia Williams and her daughter Cecelia move ...</td>\n",
       "      <td>105</td>\n",
       "      <td>Drama|Horror|Thriller</td>\n",
       "      <td>Vertigo Entertainment|Touchstone Pictures|Post...</td>\n",
       "      <td>6/27/2005</td>\n",
       "      <td>5.2</td>\n",
       "      <td>2005</td>\n",
       "    </tr>\n",
       "  </tbody>\n",
       "</table>\n",
       "</div>"
      ],
      "text/plain": [
       "        imdb_id     budget    revenue                        original_title  \\\n",
       "251   tt1190080  200000000  769653595                                  2012   \n",
       "1293  tt2473682    5000000   86362372  Paranormal Activity: The Marked Ones   \n",
       "1521  tt0482546   30000000   35078241                           Miss Potter   \n",
       "1763  tt0427309   15000000   30226144                    The Great Debaters   \n",
       "1432  tt0382628   30000000   25473093                            Dark Water   \n",
       "\n",
       "                                                   cast  \\\n",
       "251   John Cusack|Amanda Peet|Chiwetel Ejiofor|Thand...   \n",
       "1293  Richard Cabral|Carlos Pratts|Eddie J. Fernande...   \n",
       "1521  Ewan McGregor|RenÃ©e Zellweger|Emily Watson|Ba...   \n",
       "1763  Denzel Washington|Nate Parker|Forest Whitaker|...   \n",
       "1432  Jennifer Connelly|John C. Reilly|Tim Roth|Doug...   \n",
       "\n",
       "                   director  \\\n",
       "251         Roland Emmerich   \n",
       "1293  Christopher B. Landon   \n",
       "1521           Chris Noonan   \n",
       "1763      Denzel Washington   \n",
       "1432          Walter Salles   \n",
       "\n",
       "                                                tagline  \\\n",
       "251                                     We Were Warned.   \n",
       "1293                              You're one of us now.   \n",
       "1521  The life of Beatrix Potter is the most enchant...   \n",
       "1763  When the nation was in need, he inspired them ...   \n",
       "1432  This Season, The Mystery Of The Darkness Will ...   \n",
       "\n",
       "                                               overview  runtime  \\\n",
       "251   Dr. Adrian Helmsley, part of a worldwide geoph...      158   \n",
       "1293  Seventeen-year-old Jesse has been hearing terr...       84   \n",
       "1521  The story of Beatrix Potter, the author of the...       92   \n",
       "1763  The true story of a brilliant but politically ...      126   \n",
       "1432  Dahlia Williams and her daughter Cecelia move ...      105   \n",
       "\n",
       "                                genres  \\\n",
       "251   Action|Adventure|Science Fiction   \n",
       "1293                   Horror|Thriller   \n",
       "1521              Drama|Family|Romance   \n",
       "1763                             Drama   \n",
       "1432             Drama|Horror|Thriller   \n",
       "\n",
       "                                   production_companies release_date  \\\n",
       "251   Columbia Pictures|Centropolis Entertainment|Th...   10/10/2009   \n",
       "1293        Blumhouse Productions|Room 101|Solana Films   12/31/2013   \n",
       "1521                                          BBC Films    12/3/2006   \n",
       "1763  The Weinstein Company|Harpo Films|Marshall Pro...   12/27/2007   \n",
       "1432  Vertigo Entertainment|Touchstone Pictures|Post...    6/27/2005   \n",
       "\n",
       "      vote_average  release_year  \n",
       "251            5.6          2009  \n",
       "1293           5.3          2013  \n",
       "1521           6.2          2006  \n",
       "1763           6.6          2007  \n",
       "1432           5.2          2005  "
      ]
     },
     "execution_count": 4,
     "metadata": {},
     "output_type": "execute_result"
    }
   ],
   "source": [
    "data = pd.read_csv('movie_bd_v5.csv')\n",
    "data.sample(5)"
   ]
  },
  {
   "cell_type": "code",
   "execution_count": 5,
   "metadata": {
    "colab": {},
    "colab_type": "code",
    "id": "CoYUnagMVp-C"
   },
   "outputs": [
    {
     "data": {
      "text/html": [
       "<div>\n",
       "<style scoped>\n",
       "    .dataframe tbody tr th:only-of-type {\n",
       "        vertical-align: middle;\n",
       "    }\n",
       "\n",
       "    .dataframe tbody tr th {\n",
       "        vertical-align: top;\n",
       "    }\n",
       "\n",
       "    .dataframe thead th {\n",
       "        text-align: right;\n",
       "    }\n",
       "</style>\n",
       "<table border=\"1\" class=\"dataframe\">\n",
       "  <thead>\n",
       "    <tr style=\"text-align: right;\">\n",
       "      <th></th>\n",
       "      <th>budget</th>\n",
       "      <th>revenue</th>\n",
       "      <th>runtime</th>\n",
       "      <th>vote_average</th>\n",
       "      <th>release_year</th>\n",
       "    </tr>\n",
       "  </thead>\n",
       "  <tbody>\n",
       "    <tr>\n",
       "      <th>count</th>\n",
       "      <td>1.889000e+03</td>\n",
       "      <td>1.889000e+03</td>\n",
       "      <td>1889.000000</td>\n",
       "      <td>1889.000000</td>\n",
       "      <td>1889.000000</td>\n",
       "    </tr>\n",
       "    <tr>\n",
       "      <th>mean</th>\n",
       "      <td>5.431083e+07</td>\n",
       "      <td>1.553653e+08</td>\n",
       "      <td>109.658549</td>\n",
       "      <td>6.140762</td>\n",
       "      <td>2007.860773</td>\n",
       "    </tr>\n",
       "    <tr>\n",
       "      <th>std</th>\n",
       "      <td>4.858721e+07</td>\n",
       "      <td>2.146698e+08</td>\n",
       "      <td>18.017041</td>\n",
       "      <td>0.764763</td>\n",
       "      <td>4.468841</td>\n",
       "    </tr>\n",
       "    <tr>\n",
       "      <th>min</th>\n",
       "      <td>5.000000e+06</td>\n",
       "      <td>2.033165e+06</td>\n",
       "      <td>63.000000</td>\n",
       "      <td>3.300000</td>\n",
       "      <td>2000.000000</td>\n",
       "    </tr>\n",
       "    <tr>\n",
       "      <th>25%</th>\n",
       "      <td>2.000000e+07</td>\n",
       "      <td>3.456058e+07</td>\n",
       "      <td>97.000000</td>\n",
       "      <td>5.600000</td>\n",
       "      <td>2004.000000</td>\n",
       "    </tr>\n",
       "    <tr>\n",
       "      <th>50%</th>\n",
       "      <td>3.800000e+07</td>\n",
       "      <td>8.361541e+07</td>\n",
       "      <td>107.000000</td>\n",
       "      <td>6.100000</td>\n",
       "      <td>2008.000000</td>\n",
       "    </tr>\n",
       "    <tr>\n",
       "      <th>75%</th>\n",
       "      <td>7.200000e+07</td>\n",
       "      <td>1.782626e+08</td>\n",
       "      <td>120.000000</td>\n",
       "      <td>6.600000</td>\n",
       "      <td>2012.000000</td>\n",
       "    </tr>\n",
       "    <tr>\n",
       "      <th>max</th>\n",
       "      <td>3.800000e+08</td>\n",
       "      <td>2.781506e+09</td>\n",
       "      <td>214.000000</td>\n",
       "      <td>8.100000</td>\n",
       "      <td>2015.000000</td>\n",
       "    </tr>\n",
       "  </tbody>\n",
       "</table>\n",
       "</div>"
      ],
      "text/plain": [
       "             budget       revenue      runtime  vote_average  release_year\n",
       "count  1.889000e+03  1.889000e+03  1889.000000   1889.000000   1889.000000\n",
       "mean   5.431083e+07  1.553653e+08   109.658549      6.140762   2007.860773\n",
       "std    4.858721e+07  2.146698e+08    18.017041      0.764763      4.468841\n",
       "min    5.000000e+06  2.033165e+06    63.000000      3.300000   2000.000000\n",
       "25%    2.000000e+07  3.456058e+07    97.000000      5.600000   2004.000000\n",
       "50%    3.800000e+07  8.361541e+07   107.000000      6.100000   2008.000000\n",
       "75%    7.200000e+07  1.782626e+08   120.000000      6.600000   2012.000000\n",
       "max    3.800000e+08  2.781506e+09   214.000000      8.100000   2015.000000"
      ]
     },
     "execution_count": 5,
     "metadata": {},
     "output_type": "execute_result"
    }
   ],
   "source": [
    "data.describe()"
   ]
  },
  {
   "cell_type": "markdown",
   "metadata": {
    "colab_type": "text",
    "id": "DTIt7ezGVp-G"
   },
   "source": [
    "# Предобработка"
   ]
  },
  {
   "cell_type": "code",
   "execution_count": 39,
   "metadata": {
    "colab": {},
    "colab_type": "code",
    "id": "jNb40DwKVp-H"
   },
   "outputs": [],
   "source": [
    "answers = {} # создадим словарь для ответов\n",
    "\n",
    "# profit\n",
    "data['profit'] = data.revenue - data.budget"
   ]
  },
  {
   "cell_type": "markdown",
   "metadata": {
    "colab_type": "text",
    "id": "YxZaH-nPVp-L"
   },
   "source": [
    "# 1. У какого фильма из списка самый большой бюджет?"
   ]
  },
  {
   "cell_type": "markdown",
   "metadata": {
    "colab_type": "text",
    "id": "Nd-G5gX6Vp-M"
   },
   "source": [
    "Использовать варианты ответов в коде решения запрещено.    \n",
    "Вы думаете и в жизни у вас будут варианты ответов?)"
   ]
  },
  {
   "cell_type": "code",
   "execution_count": 11,
   "metadata": {
    "colab": {},
    "colab_type": "code",
    "id": "uVnXAY5RVp-O"
   },
   "outputs": [],
   "source": [
    "# в словарь вставляем номер вопроса и ваш ответ на него\n",
    "# запишите свой вариант ответа\n",
    "answers['1'] = 'Pirates of the Caribbean: On Stranger Tides (tt1298650)' # +\n",
    "# если ответили верно, можете добавить комментарий со значком \"+\""
   ]
  },
  {
   "cell_type": "code",
   "execution_count": 8,
   "metadata": {
    "colab": {},
    "colab_type": "code",
    "id": "dZwb3m28Vp-S"
   },
   "outputs": [
    {
     "name": "stdout",
     "output_type": "stream",
     "text": [
      "Pirates of the Caribbean: On Stranger Tides (tt1298650)\n"
     ]
    }
   ],
   "source": [
    "# тут пишем ваш код для решения данного вопроса:\n",
    "def q1(data):\n",
    "    slice = data[['imdb_id', 'original_title', 'budget']]\n",
    "\n",
    "    # technique 1\n",
    "    res_1 = slice.sort_values(by=['budget'], ascending=False).iloc[0]\n",
    "\n",
    "    # technique 2\n",
    "    res_2 = slice[slice.budget == slice.budget.max()].iloc[0]\n",
    "\n",
    "    # compare results\n",
    "    compare = res_1 == res_2\n",
    "    if compare.value_counts()[True] == len(slice.columns):\n",
    "        print(res_1.original_title + ' (' + res_1.imdb_id + ')')\n",
    "    else:\n",
    "        print('Results are not the same')\n",
    "        \n",
    "        \n",
    "q1(data)"
   ]
  },
  {
   "cell_type": "markdown",
   "metadata": {
    "colab_type": "text",
    "id": "K7L3nbRXVp-X"
   },
   "source": [
    "ВАРИАНТ 2"
   ]
  },
  {
   "cell_type": "code",
   "execution_count": 0,
   "metadata": {
    "colab": {},
    "colab_type": "code",
    "id": "OGaoQI7rVp-X"
   },
   "outputs": [],
   "source": [
    "# можно добавлять разные варианты решения"
   ]
  },
  {
   "cell_type": "markdown",
   "metadata": {
    "colab_type": "text",
    "id": "FNRbbI3vVp-c"
   },
   "source": [
    "# 2. Какой из фильмов самый длительный (в минутах)?"
   ]
  },
  {
   "cell_type": "code",
   "execution_count": 0,
   "metadata": {
    "colab": {},
    "colab_type": "code",
    "id": "vHAoEXNTVp-d"
   },
   "outputs": [],
   "source": [
    "# думаю логику работы с этим словарем вы уже поняли, \n",
    "# по этому не буду больше его дублировать\n",
    "answers['2'] = 'Gods and Generals (tt0279111)'  # +"
   ]
  },
  {
   "cell_type": "code",
   "execution_count": 13,
   "metadata": {
    "colab": {},
    "colab_type": "code",
    "id": "ot-VX2XrVp-g"
   },
   "outputs": [
    {
     "name": "stdout",
     "output_type": "stream",
     "text": [
      "Gods and Generals (tt0279111)\n"
     ]
    }
   ],
   "source": [
    "def q2(data):\n",
    "    slice = data[['imdb_id', 'original_title', 'runtime']]\n",
    "\n",
    "    # technique 1\n",
    "    res_1 = slice.sort_values(by=['runtime'], ascending=False).iloc[0]\n",
    "\n",
    "    # technique 2\n",
    "    res_2 = slice[slice.runtime == slice.runtime.max()].iloc[0]\n",
    "\n",
    "    # compare results\n",
    "    compare = res_1 == res_2\n",
    "    if compare.value_counts()[True] == len(slice.columns):\n",
    "        print(res_1.original_title + ' (' + res_1.imdb_id + ')')\n",
    "    else:\n",
    "        print('Results are not the same')\n",
    "\n",
    "\n",
    "q2(data)"
   ]
  },
  {
   "cell_type": "markdown",
   "metadata": {
    "colab_type": "text",
    "id": "bapLlpW8Vp-k"
   },
   "source": [
    "# 3. Какой из фильмов самый короткий (в минутах)?\n",
    "\n",
    "\n",
    "\n"
   ]
  },
  {
   "cell_type": "code",
   "execution_count": 31,
   "metadata": {},
   "outputs": [],
   "source": [
    "answers['3'] = 'Winnie the Pooh (tt1449283)'  # +"
   ]
  },
  {
   "cell_type": "code",
   "execution_count": 14,
   "metadata": {
    "colab": {},
    "colab_type": "code",
    "id": "YBxaSHuAVp-l"
   },
   "outputs": [
    {
     "name": "stdout",
     "output_type": "stream",
     "text": [
      "Winnie the Pooh (tt1449283)\n"
     ]
    }
   ],
   "source": [
    "def q3(data):\n",
    "    slice = data[['imdb_id', 'original_title', 'runtime']]\n",
    "\n",
    "    # technique 1\n",
    "    res_1 = slice.sort_values(by=['runtime']).iloc[0]\n",
    "\n",
    "    # technique 2\n",
    "    res_2 = slice[slice.runtime == slice.runtime.min()].iloc[0]\n",
    "\n",
    "    # compare results\n",
    "    compare = res_1 == res_2\n",
    "    if compare.value_counts()[True] == len(slice.columns):\n",
    "        print(res_1.original_title + ' (' + res_1.imdb_id + ')')\n",
    "    else:\n",
    "        print('Results are not the same')\n",
    "\n",
    "\n",
    "q3(data)"
   ]
  },
  {
   "cell_type": "markdown",
   "metadata": {
    "colab_type": "text",
    "id": "TfQbxbfNVp-p"
   },
   "source": [
    "# 4. Какова средняя длительность фильмов?\n"
   ]
  },
  {
   "cell_type": "code",
   "execution_count": 30,
   "metadata": {},
   "outputs": [],
   "source": [
    "answers['4'] = 110 # +"
   ]
  },
  {
   "cell_type": "code",
   "execution_count": 29,
   "metadata": {
    "colab": {},
    "colab_type": "code",
    "id": "5K6dKZYVVp-q"
   },
   "outputs": [
    {
     "name": "stdout",
     "output_type": "stream",
     "text": [
      "109.6585494970884\n"
     ]
    }
   ],
   "source": [
    "def q4(data):\n",
    "    slice = data[['runtime']]\n",
    "\n",
    "    # technique 1\n",
    "    res_1 = slice.runtime.mean()\n",
    "\n",
    "    # technique 2\n",
    "    res_2 = slice.runtime.sum() / data.runtime.count()\n",
    "\n",
    "    # compare results\n",
    "    compare = res_1 == res_2\n",
    "    if compare:\n",
    "        print(res_1)\n",
    "    else:\n",
    "        print('Results are not the same')\n",
    "\n",
    "\n",
    "q4(data)"
   ]
  },
  {
   "cell_type": "markdown",
   "metadata": {
    "colab_type": "text",
    "id": "r5TvbnT_Vp-u"
   },
   "source": [
    "# 5. Каково медианное значение длительности фильмов? "
   ]
  },
  {
   "cell_type": "code",
   "execution_count": 38,
   "metadata": {},
   "outputs": [],
   "source": [
    "answers['5'] = 107 # +"
   ]
  },
  {
   "cell_type": "code",
   "execution_count": 37,
   "metadata": {
    "colab": {},
    "colab_type": "code",
    "id": "iBROplKnVp-v"
   },
   "outputs": [
    {
     "name": "stdout",
     "output_type": "stream",
     "text": [
      "107.0\n"
     ]
    }
   ],
   "source": [
    "def q5(data):\n",
    "    slice = data[['runtime']]\n",
    "\n",
    "    # technique 1\n",
    "    res_1 = slice.runtime.median()\n",
    "\n",
    "    # technique 2\n",
    "    sorted = slice.sort_values(by='runtime')\n",
    "    half_len = (sorted.runtime.count() + 1) / 2\n",
    "    if half_len % 1 == 0:\n",
    "        res_2 = sorted.iloc[int(math.floor(half_len - 1))].runtime\n",
    "    else:\n",
    "        left = sorted.iloc[int(math.floor(half_len - 1))].runtime\n",
    "        right = sorted.iloc[int(math.ceil(half_len - 1))].runtime\n",
    "        res_2 = (left + right) / 2\n",
    "\n",
    "    # compare results\n",
    "    compare = res_1 == res_2\n",
    "    if compare:\n",
    "        print(res_1)\n",
    "    else:\n",
    "        print('Results are not the same')\n",
    "\n",
    "\n",
    "q5(data)"
   ]
  },
  {
   "cell_type": "markdown",
   "metadata": {
    "colab_type": "text",
    "id": "39P-deDSVp-y"
   },
   "source": [
    "# 6. Какой самый прибыльный фильм?\n",
    "#### Внимание! Здесь и далее под «прибылью» или «убытками» понимается разность между сборами и бюджетом фильма. (прибыль = сборы - бюджет) в нашем датасете это будет (profit = revenue - budget) "
   ]
  },
  {
   "cell_type": "code",
   "execution_count": null,
   "metadata": {},
   "outputs": [],
   "source": [
    "answers['6'] = 'Avatar (tt0499549)' # +"
   ]
  },
  {
   "cell_type": "code",
   "execution_count": 40,
   "metadata": {
    "colab": {},
    "colab_type": "code",
    "id": "UYZh4T9WVp-y"
   },
   "outputs": [
    {
     "name": "stdout",
     "output_type": "stream",
     "text": [
      "Avatar (tt0499549)\n"
     ]
    }
   ],
   "source": [
    "def q6(data):\n",
    "    slice = data.loc[:, ['imdb_id', 'original_title', 'profit']]\n",
    "\n",
    "    # technique 1\n",
    "    res_1 = slice.sort_values(by=['profit'], ascending=False).iloc[0]\n",
    "\n",
    "    # technique 2\n",
    "    res_2 = slice[slice.profit == slice.profit.max()].iloc[0]\n",
    "\n",
    "    # compare results\n",
    "    compare = res_1 == res_2\n",
    "    if compare.value_counts()[True] == len(slice.columns):\n",
    "        print(res_1.original_title + ' (' + res_1.imdb_id + ')')\n",
    "    else:\n",
    "        print('Results are not the same')\n",
    "\n",
    "\n",
    "q6(data)"
   ]
  },
  {
   "cell_type": "markdown",
   "metadata": {
    "colab_type": "text",
    "id": "M99JmIX4Vp-2"
   },
   "source": [
    "# 7. Какой фильм самый убыточный? "
   ]
  },
  {
   "cell_type": "code",
   "execution_count": 0,
   "metadata": {
    "colab": {},
    "colab_type": "code",
    "id": "w-D2m4XPVp-3"
   },
   "outputs": [],
   "source": [
    "answers['7'] = 'The Lone Ranger (tt1210819)' # +"
   ]
  },
  {
   "cell_type": "code",
   "execution_count": 56,
   "metadata": {},
   "outputs": [
    {
     "name": "stdout",
     "output_type": "stream",
     "text": [
      "The Lone Ranger (tt1210819)\n"
     ]
    }
   ],
   "source": [
    "def q7(data):\n",
    "    slice = data.loc[:, ['imdb_id', 'original_title', 'profit']]\n",
    "\n",
    "    # technique 1\n",
    "    res_1 = slice.sort_values(by=['profit']).iloc[0]\n",
    "\n",
    "    # technique 2\n",
    "    res_2 = slice[slice.profit == slice.profit.min()].iloc[0]\n",
    "\n",
    "    # compare results\n",
    "    compare = res_1 == res_2\n",
    "    if compare.value_counts()[True] == len(slice.columns):\n",
    "        print(res_1.original_title + ' (' + res_1.imdb_id + ')')\n",
    "    else:\n",
    "        print('Results are not the same')\n",
    "\n",
    "\n",
    "q7(data)"
   ]
  },
  {
   "cell_type": "markdown",
   "metadata": {
    "colab_type": "text",
    "id": "wEOM5ERVVp-6"
   },
   "source": [
    "# 8. У скольких фильмов из датасета объем сборов оказался выше бюджета?"
   ]
  },
  {
   "cell_type": "code",
   "execution_count": 46,
   "metadata": {
    "colab": {},
    "colab_type": "code",
    "id": "y00_7HD6Vp-7"
   },
   "outputs": [],
   "source": [
    "answers['8'] = 1478 # +"
   ]
  },
  {
   "cell_type": "code",
   "execution_count": 55,
   "metadata": {},
   "outputs": [
    {
     "name": "stdout",
     "output_type": "stream",
     "text": [
      "1478\n"
     ]
    }
   ],
   "source": [
    "def q8(data):\n",
    "    slice = data.loc[:, ['budget', 'revenue', 'profit']]\n",
    "\n",
    "    # technique 1\n",
    "    res_1 = slice[slice.profit > 0].profit.count()\n",
    "\n",
    "    # technique 2\n",
    "    res_2 = slice[slice.revenue > slice.budget].revenue.count()\n",
    "\n",
    "    # compare results\n",
    "    compare = res_1 == res_2\n",
    "    if compare:\n",
    "        print(res_1)\n",
    "    else:\n",
    "        print('Results are not the same')\n",
    "\n",
    "\n",
    "q8(data)"
   ]
  },
  {
   "cell_type": "markdown",
   "metadata": {
    "colab_type": "text",
    "id": "xhpspA9KVp_A"
   },
   "source": [
    "# 9. Какой фильм оказался самым кассовым в 2008 году?"
   ]
  },
  {
   "cell_type": "code",
   "execution_count": 0,
   "metadata": {
    "colab": {},
    "colab_type": "code",
    "id": "MoUyQr9RVp_B"
   },
   "outputs": [],
   "source": [
    "answers['9'] = 'The Dark Knight (tt0468569)' # +"
   ]
  },
  {
   "cell_type": "code",
   "execution_count": 48,
   "metadata": {},
   "outputs": [
    {
     "name": "stdout",
     "output_type": "stream",
     "text": [
      "The Dark Knight (tt0468569)\n"
     ]
    }
   ],
   "source": [
    "def q9(data):\n",
    "    slice = data[data.release_year == 2008].loc[:, ['imdb_id', 'original_title', 'revenue']]\n",
    "\n",
    "    # technique 1\n",
    "    res_1 = slice.sort_values(by=['revenue'], ascending=False).iloc[0]\n",
    "\n",
    "    # technique 2\n",
    "    res_2 = slice[slice.revenue == slice.revenue.max()].iloc[0]\n",
    "\n",
    "    # compare results\n",
    "    compare = res_1 == res_2\n",
    "    if compare.value_counts()[True] == len(slice.columns):\n",
    "        print(res_1.original_title + ' (' + res_1.imdb_id + ')')\n",
    "    else:\n",
    "        print('Results are not the same')\n",
    "\n",
    "\n",
    "q9(data)"
   ]
  },
  {
   "cell_type": "markdown",
   "metadata": {
    "colab_type": "text",
    "id": "Zi4hDKidVp_F"
   },
   "source": [
    "# 10. Самый убыточный фильм за период с 2012 по 2014 г. (включительно)?\n"
   ]
  },
  {
   "cell_type": "code",
   "execution_count": 51,
   "metadata": {
    "colab": {},
    "colab_type": "code",
    "id": "XqyRmufJVp_F"
   },
   "outputs": [],
   "source": [
    "answers['10'] = 'The Lone Ranger (tt1210819)' # +"
   ]
  },
  {
   "cell_type": "code",
   "execution_count": 53,
   "metadata": {},
   "outputs": [
    {
     "name": "stdout",
     "output_type": "stream",
     "text": [
      "The Lone Ranger (tt1210819)\n"
     ]
    }
   ],
   "source": [
    "def q10(data):\n",
    "    filtered = data[(data.release_year >= 2012) & (data.release_year <= 2014)]\n",
    "    slice = filtered.loc[:, ['imdb_id', 'original_title', 'profit']]\n",
    "\n",
    "    # technique 1\n",
    "    res_1 = slice.sort_values(by=['profit']).iloc[0]\n",
    "\n",
    "    # technique 2\n",
    "    res_2 = slice[slice.profit == slice.profit.min()].iloc[0]\n",
    "\n",
    "    # compare results\n",
    "    compare = res_1 == res_2\n",
    "    if compare.value_counts()[True] == len(slice.columns):\n",
    "        print(res_1.original_title + ' (' + res_1.imdb_id + ')')\n",
    "    else:\n",
    "        print('Results are not the same')\n",
    "\n",
    "\n",
    "q10(data)"
   ]
  },
  {
   "cell_type": "markdown",
   "metadata": {
    "colab_type": "text",
    "id": "EA7Sa9dkVp_I"
   },
   "source": [
    "# 11. Какого жанра фильмов больше всего?"
   ]
  },
  {
   "cell_type": "code",
   "execution_count": null,
   "metadata": {},
   "outputs": [],
   "source": [
    "answers['11'] = 'Drama' # +"
   ]
  },
  {
   "cell_type": "code",
   "execution_count": 52,
   "metadata": {
    "colab": {},
    "colab_type": "code",
    "id": "zsJAwJ8QVp_J"
   },
   "outputs": [
    {
     "name": "stdout",
     "output_type": "stream",
     "text": [
      "Drama\n"
     ]
    }
   ],
   "source": [
    "def q11(data):\n",
    "    # technique 1\n",
    "    genres_count = {}\n",
    "    max = {\n",
    "        'genre': 'unknown',\n",
    "        'count': 0\n",
    "    }\n",
    "    value_counts = data.genres.value_counts()\n",
    "    for genresString in value_counts.keys():\n",
    "        genres = genresString.split('|')\n",
    "        count = value_counts.loc[[genresString]]\n",
    "        for genre in genres:\n",
    "            if genre not in genres_count:\n",
    "                genres_count[genre] = 0\n",
    "            genres_count[genre] += count[genresString]\n",
    "            if genres_count[genre] > max['count']:\n",
    "                max['genre'] = genre\n",
    "                max['count'] = genres_count[genre]\n",
    "    res_1 = max['genre']\n",
    "\n",
    "    # technique 2\n",
    "    genres_list = data.genres.str.split('|').tolist()\n",
    "    value_counts = pd.DataFrame(genres_list).stack().value_counts()\n",
    "    res_2 = value_counts[value_counts == value_counts.max()].index[0]\n",
    "\n",
    "    # compare results\n",
    "    compare = res_1 == res_2\n",
    "    if compare:\n",
    "        print(res_1)\n",
    "    else:\n",
    "        print('Different ways results are not the same')\n",
    "\n",
    "\n",
    "q11(data)"
   ]
  },
  {
   "cell_type": "markdown",
   "metadata": {
    "colab_type": "text",
    "id": "T9_bPWpkVp_Q"
   },
   "source": [
    "# 12. Фильмы какого жанра чаще всего становятся прибыльными? "
   ]
  },
  {
   "cell_type": "code",
   "execution_count": 0,
   "metadata": {
    "colab": {},
    "colab_type": "code",
    "id": "Tmt8MaK1Vp_R"
   },
   "outputs": [],
   "source": [
    "answers['12'] = 'Drama' # +"
   ]
  },
  {
   "cell_type": "code",
   "execution_count": null,
   "metadata": {},
   "outputs": [],
   "source": [
    "def q12(data):\n",
    "    slice = data[data.revenue > data.budget]\n",
    "    genres_list = slice.genres.str.split('|').tolist()\n",
    "    value_counts = pd.DataFrame(genres_list).stack().value_counts()\n",
    "    res = value_counts[value_counts == value_counts.max()].index[0]\n",
    "    print('12. ', end ='')\n",
    "    print(res)\n",
    "\n",
    "\n",
    "q12(data)"
   ]
  },
  {
   "cell_type": "markdown",
   "metadata": {
    "colab_type": "text",
    "id": "0F23bgsDVp_U"
   },
   "source": [
    "# 13. У какого режиссера самые большие суммарные кассовые сбооры?"
   ]
  },
  {
   "cell_type": "code",
   "execution_count": 0,
   "metadata": {
    "colab": {},
    "colab_type": "code",
    "id": "K6Z3J8ygVp_X"
   },
   "outputs": [],
   "source": [
    "answers['13'] = 'Peter Jackson' # +"
   ]
  },
  {
   "cell_type": "code",
   "execution_count": 59,
   "metadata": {},
   "outputs": [
    {
     "name": "stdout",
     "output_type": "stream",
     "text": [
      "Peter Jackson\n"
     ]
    }
   ],
   "source": [
    "def q13(data):\n",
    "    slice = data.loc[:, ['director', 'profit']]\n",
    "    res = slice.groupby(['director'])['profit'].sum().sort_values().index[-1]\n",
    "    print(res)\n",
    "\n",
    "\n",
    "q13(data)"
   ]
  },
  {
   "cell_type": "markdown",
   "metadata": {
    "colab_type": "text",
    "id": "PsYC9FgRVp_a"
   },
   "source": [
    "# 14. Какой режисер снял больше всего фильмов в стиле Action?"
   ]
  },
  {
   "cell_type": "code",
   "execution_count": 60,
   "metadata": {
    "colab": {},
    "colab_type": "code",
    "id": "wd2M-wHeVp_b"
   },
   "outputs": [],
   "source": [
    "answers['14'] = 'Robert Rodriguez' # +"
   ]
  },
  {
   "cell_type": "code",
   "execution_count": 71,
   "metadata": {},
   "outputs": [
    {
     "name": "stdout",
     "output_type": "stream",
     "text": [
      "Robert Rodriguez\n"
     ]
    }
   ],
   "source": [
    "def q14(data):\n",
    "    slice = data.loc[:, ['director']] \\\n",
    "        [data.genres.str.lower().str.contains('action')]\n",
    "    directors_list = slice.director.str.split('|').tolist()\n",
    "    res = pd.DataFrame(directors_list).stack().value_counts()\n",
    "    print(res.index[0])\n",
    "\n",
    "\n",
    "q14(data)"
   ]
  },
  {
   "cell_type": "markdown",
   "metadata": {
    "colab_type": "text",
    "id": "PQ0KciD7Vp_f"
   },
   "source": [
    "# 15. Фильмы с каким актером принесли самые высокие кассовые сборы в 2012 году? "
   ]
  },
  {
   "cell_type": "code",
   "execution_count": 82,
   "metadata": {
    "colab": {},
    "colab_type": "code",
    "id": "aga62oeKVp_g"
   },
   "outputs": [],
   "source": [
    "answers['15'] = 'Chris Hemsworth' # +"
   ]
  },
  {
   "cell_type": "code",
   "execution_count": 81,
   "metadata": {},
   "outputs": [
    {
     "name": "stdout",
     "output_type": "stream",
     "text": [
      "Chris Hemsworth\n"
     ]
    }
   ],
   "source": [
    "def q15(data):\n",
    "    slice = data[data.release_year == 2012].loc[:, ['cast', 'revenue']]\n",
    "    slice = pd.DataFrame(\n",
    "        slice.cast.str.split('|').tolist(), index=slice.revenue\n",
    "    ) \\\n",
    "        .stack() \\\n",
    "        .reset_index([0, 'revenue'])\n",
    "\n",
    "    slice.columns = ['revenue', 'actor']\n",
    "\n",
    "    slice = slice.groupby(['actor']) \\\n",
    "        .revenue.sum().reset_index() \\\n",
    "        .sort_values(by='revenue', ascending=False).reset_index()\n",
    "\n",
    "    res = slice.loc[0].actor\n",
    "    print(res)\n",
    "\n",
    "\n",
    "q15(data)"
   ]
  },
  {
   "cell_type": "markdown",
   "metadata": {
    "colab_type": "text",
    "id": "mWHyyL7QVp_j"
   },
   "source": [
    "# 16. Какой актер снялся в большем количестве высокобюджетных фильмов?"
   ]
  },
  {
   "cell_type": "code",
   "execution_count": 0,
   "metadata": {
    "colab": {},
    "colab_type": "code",
    "id": "qQtmHKTFVp_k"
   },
   "outputs": [],
   "source": [
    "answers['16'] = 'Matt Damon' # +"
   ]
  },
  {
   "cell_type": "code",
   "execution_count": 79,
   "metadata": {},
   "outputs": [
    {
     "name": "stdout",
     "output_type": "stream",
     "text": [
      "Matt Damon\n"
     ]
    }
   ],
   "source": [
    "def q16(data):\n",
    "    slice = data[data.budget > data.budget.mean()].loc[:,['budget', 'cast']]\n",
    "    actors_budget = pd.DataFrame(slice.cast.str.split('|').tolist(), index=slice.budget).stack()\n",
    "    actors_budget = actors_budget.reset_index([0, 'budget'])\n",
    "    actors_budget.columns = ['budget', 'actor']\n",
    "    actors = actors_budget['actor']\n",
    "\n",
    "    value_counts = actors.value_counts().reset_index()\n",
    "    value_counts.columns = ['actor', 'count']\n",
    "    value_counts.sort_values(by='count')\n",
    "    res = value_counts.loc[0].actor\n",
    "\n",
    "    print(res)\n",
    "\n",
    "\n",
    "q16(data)"
   ]
  },
  {
   "cell_type": "markdown",
   "metadata": {
    "colab_type": "text",
    "id": "NIh6AaW5Vp_n"
   },
   "source": [
    "# 17. В фильмах какого жанра больше всего снимался Nicolas Cage? "
   ]
  },
  {
   "cell_type": "code",
   "execution_count": 0,
   "metadata": {
    "colab": {},
    "colab_type": "code",
    "id": "H74SJDIBVp_n"
   },
   "outputs": [],
   "source": [
    "answers['17'] = 'Action' # +"
   ]
  },
  {
   "cell_type": "code",
   "execution_count": 80,
   "metadata": {},
   "outputs": [
    {
     "name": "stdout",
     "output_type": "stream",
     "text": [
      "Action\n"
     ]
    }
   ],
   "source": [
    "def q17(data):\n",
    "    nicalas_genres = data[data.cast.str.find('Nicolas Cage') >= 0] \\\n",
    "         .loc[:,['genres', 'cast']]\n",
    "\n",
    "    splited_genres = pd.DataFrame(\n",
    "        nicalas_genres.genres.str.split('|').tolist()\n",
    "    ) \\\n",
    "        .stack().reset_index()\n",
    "\n",
    "    splited_genres.columns = ['drop', 'drop', 'genre']\n",
    "    splited_genres = splited_genres.drop(columns=['drop'])\n",
    "\n",
    "    value_counts = splited_genres.genre.value_counts().reset_index()\n",
    "    value_counts.columns = ['genre', 'count']\n",
    "    \n",
    "    res = value_counts.loc[0].genre\n",
    "    print(res)\n",
    "\n",
    "\n",
    "q17(data)"
   ]
  },
  {
   "cell_type": "markdown",
   "metadata": {
    "colab_type": "text",
    "id": "RqOmPRfWVp_q"
   },
   "source": [
    "# 18. Самый убыточный фильм от Paramount Pictures"
   ]
  },
  {
   "cell_type": "code",
   "execution_count": 0,
   "metadata": {
    "colab": {},
    "colab_type": "code",
    "id": "9E_B0Y96Vp_r"
   },
   "outputs": [],
   "source": [
    "answers['18'] = 'K-19: The Widowmaker (tt0267626)' # +"
   ]
  },
  {
   "cell_type": "code",
   "execution_count": 88,
   "metadata": {},
   "outputs": [
    {
     "name": "stdout",
     "output_type": "stream",
     "text": [
      "K-19: The Widowmaker (tt0267626)\n"
     ]
    }
   ],
   "source": [
    "def q18(data):\n",
    "    slice = data[\n",
    "        data.production_companies.str.lower().str.contains('paramount pictures')==True\n",
    "    ] \\\n",
    "        .loc[:, ['original_title', 'imdb_id', 'profit']] \\\n",
    "        .sort_values(by=['profit']).reset_index() \\\n",
    "        .query('profit == profit.min()') \\\n",
    "        .loc[0]\n",
    "    \n",
    "    res = slice.original_title + ' (' + slice.imdb_id + ')'\n",
    "    print(res)\n",
    "    \n",
    "    \n",
    "q18(data)"
   ]
  },
  {
   "cell_type": "markdown",
   "metadata": {
    "colab_type": "text",
    "id": "vS8Ur6ddVp_u"
   },
   "source": [
    "# 19. Какой год стал самым успешным по суммарным кассовым сборам?"
   ]
  },
  {
   "cell_type": "code",
   "execution_count": 93,
   "metadata": {
    "colab": {},
    "colab_type": "code",
    "id": "Dnbt4GdIVp_v"
   },
   "outputs": [],
   "source": [
    "answers['19'] = '2015' # +"
   ]
  },
  {
   "cell_type": "code",
   "execution_count": 92,
   "metadata": {},
   "outputs": [
    {
     "name": "stdout",
     "output_type": "stream",
     "text": [
      "2015\n"
     ]
    }
   ],
   "source": [
    "def q19(data):\n",
    "    slice = data.loc[:, ['release_year', 'profit']] \\\n",
    "        .groupby(['release_year']).profit.sum() \\\n",
    "        .sort_values(ascending=False).reset_index() \\\n",
    "        .query('profit == profit.max()')\n",
    "\n",
    "    res = slice.loc[0].release_year\n",
    "    print(res)\n",
    "\n",
    "\n",
    "q19(data)"
   ]
  },
  {
   "cell_type": "markdown",
   "metadata": {
    "colab_type": "text",
    "id": "JAzJh4QAVp_z"
   },
   "source": [
    "# 20. Какой самый прибыльный год для студии Warner Bros?"
   ]
  },
  {
   "cell_type": "code",
   "execution_count": 0,
   "metadata": {
    "colab": {},
    "colab_type": "code",
    "id": "wgVu02DEVp_0"
   },
   "outputs": [],
   "source": [
    "answers['20'] = '2014' # +"
   ]
  },
  {
   "cell_type": "code",
   "execution_count": 96,
   "metadata": {},
   "outputs": [
    {
     "name": "stdout",
     "output_type": "stream",
     "text": [
      "2014\n"
     ]
    }
   ],
   "source": [
    "def q20(data):\n",
    "    res = data[data.production_companies.str.lower().str.find('warner bros')>=0] \\\n",
    "        .loc[:, ['release_year', 'profit']] \\\n",
    "        .groupby(['release_year']) \\\n",
    "        .profit.sum() \\\n",
    "        .sort_values(ascending=False).reset_index() \\\n",
    "        .query('profit == profit.max()') \\\n",
    "        .loc[0] \\\n",
    "        .release_year\n",
    "\n",
    "    print(res)\n",
    "\n",
    "\n",
    "q20(data)"
   ]
  },
  {
   "cell_type": "markdown",
   "metadata": {
    "colab_type": "text",
    "id": "8Im1S2HRVp_4"
   },
   "source": [
    "# 21. В каком месяце за все годы суммарно вышло больше всего фильмов?"
   ]
  },
  {
   "cell_type": "code",
   "execution_count": 0,
   "metadata": {
    "colab": {},
    "colab_type": "code",
    "id": "lev6TH7gVp_4"
   },
   "outputs": [],
   "source": [
    "answers['21'] = 'Сентябрь' # +"
   ]
  },
  {
   "cell_type": "code",
   "execution_count": 98,
   "metadata": {},
   "outputs": [
    {
     "name": "stdout",
     "output_type": "stream",
     "text": [
      "9\n"
     ]
    }
   ],
   "source": [
    "def q21(data):\n",
    "    slice = data \\\n",
    "        .loc[:, ['release_date']] \\\n",
    "        .release_date.str.split('/', expand=True) \\\n",
    "        .drop(columns=[1,2])\n",
    "\n",
    "    slice.columns = ['month']\n",
    "\n",
    "    slice = slice.month.value_counts().reset_index()\n",
    "    slice.columns = ['month', 'amount']\n",
    "\n",
    "    res = slice[slice.amount == slice.amount.max()].loc[0].month\n",
    "    print(res)\n",
    "\n",
    "\n",
    "q21(data)"
   ]
  },
  {
   "cell_type": "markdown",
   "metadata": {
    "colab_type": "text",
    "id": "uAJsZ_NeVp_7"
   },
   "source": [
    "# 22. Сколько суммарно вышло фильмов летом? (за июнь, июль, август)"
   ]
  },
  {
   "cell_type": "code",
   "execution_count": 0,
   "metadata": {
    "colab": {},
    "colab_type": "code",
    "id": "Aa-hEREoVp_8"
   },
   "outputs": [],
   "source": [
    "answers['22'] = 450 # +"
   ]
  },
  {
   "cell_type": "code",
   "execution_count": 99,
   "metadata": {},
   "outputs": [
    {
     "name": "stdout",
     "output_type": "stream",
     "text": [
      "450\n"
     ]
    }
   ],
   "source": [
    "def q22(data):\n",
    "    slice = data \\\n",
    "        .loc[:, ['release_date']] \\\n",
    "        .release_date.str.split('/', expand=True) \\\n",
    "        .drop(columns=[1,2])\n",
    "\n",
    "    slice.columns = ['month']\n",
    "\n",
    "    slice = slice.month.value_counts().reset_index()\n",
    "\n",
    "    slice.columns = ['month', 'amount']\n",
    "\n",
    "    slice = slice[slice.month.isin(['6', '7', '8'])]\n",
    "\n",
    "    res = slice.amount.sum()\n",
    "    print(res)\n",
    "\n",
    "\n",
    "q22(data)"
   ]
  },
  {
   "cell_type": "markdown",
   "metadata": {
    "colab_type": "text",
    "id": "G94ppOY1VqAA"
   },
   "source": [
    "# 23. Для какого режиссера зима – самое продуктивное время года? "
   ]
  },
  {
   "cell_type": "code",
   "execution_count": 0,
   "metadata": {
    "colab": {},
    "colab_type": "code",
    "id": "RhNTsamuVqAB"
   },
   "outputs": [],
   "source": [
    "answers['23'] = 'Peter Jackson' # +"
   ]
  },
  {
   "cell_type": "code",
   "execution_count": 111,
   "metadata": {},
   "outputs": [
    {
     "name": "stdout",
     "output_type": "stream",
     "text": [
      "Peter Jackson\n"
     ]
    }
   ],
   "source": [
    "def q23_old(data):\n",
    "    df = data.release_date.str.split('/', expand=True)\n",
    "    df['director'] = data['director']\n",
    "    df = df.drop(columns=[1,2])\n",
    "    df.columns = ['month', 'director']\n",
    "    df = df[df['month'].isin(['1', '12', '2'])]\n",
    "    df = df['director'].value_counts().reset_index()\n",
    "    df.columns = ['director', 'count']\n",
    "    res = df.loc[0].director\n",
    "    print(res)\n",
    "\n",
    "\n",
    "q23_old(data)"
   ]
  },
  {
   "cell_type": "markdown",
   "metadata": {
    "colab_type": "text",
    "id": "RBo0JVjVVqAF"
   },
   "source": [
    "# 24. Какая студия дает самые длинные названия своим фильмам по количеству символов?"
   ]
  },
  {
   "cell_type": "code",
   "execution_count": 0,
   "metadata": {
    "colab": {},
    "colab_type": "code",
    "id": "QRGS8L0iVqAG"
   },
   "outputs": [],
   "source": [
    "answers['24'] = 'Four By Two Productions' # +"
   ]
  },
  {
   "cell_type": "code",
   "execution_count": 102,
   "metadata": {},
   "outputs": [
    {
     "name": "stdout",
     "output_type": "stream",
     "text": [
      " Four By Two Productions\n"
     ]
    }
   ],
   "source": [
    "def q24(data):\n",
    "    df = data.loc[:, ['production_companies', 'original_title']]\n",
    "    df.columns = ['companies', 'title']\n",
    "    df = pd.DataFrame(df.companies.str.split('|').tolist(), index=df.title)\\\n",
    "        .stack().reset_index()\\\n",
    "        .drop(columns=['level_1'])\n",
    "\n",
    "    df.columns = ['title', 'company']\n",
    "\n",
    "    df['len'] = df.title.str.len()\n",
    "\n",
    "    df = df.drop(columns=['title'])\\\n",
    "        .groupby(['company']).len.mean().reset_index()\\\n",
    "        .query('len == len.max()')\n",
    "\n",
    "    res = df.company.to_string(index=False)\n",
    "    print(res)\n",
    "\n",
    "\n",
    "q24(data)"
   ]
  },
  {
   "cell_type": "markdown",
   "metadata": {
    "colab_type": "text",
    "id": "9G0hbvR7VqAK"
   },
   "source": [
    "# 25. Описание фильмов какой студии в среднем самые длинные по количеству слов?"
   ]
  },
  {
   "cell_type": "code",
   "execution_count": 0,
   "metadata": {
    "colab": {},
    "colab_type": "code",
    "id": "Ge2GsLNxVqAK"
   },
   "outputs": [],
   "source": [
    "answers['25'] = 'Midnight Picture Show' # +"
   ]
  },
  {
   "cell_type": "code",
   "execution_count": 103,
   "metadata": {},
   "outputs": [
    {
     "name": "stdout",
     "output_type": "stream",
     "text": [
      " Midnight Picture Show\n"
     ]
    }
   ],
   "source": [
    "def q25(data):\n",
    "    df = data.loc[:, ['production_companies', 'overview']]\n",
    "    df.columns = ['companies', 'overview']\n",
    "\n",
    "    df = pd.DataFrame(df.companies.str.split('|').tolist(), index=df.overview)\\\n",
    "        .stack().reset_index()\\\n",
    "        .drop(columns=['level_1'])\n",
    "\n",
    "    df.columns = ['overview', 'company']\n",
    "    df['len'] = df.overview.str.split(' ').str.len()\n",
    "\n",
    "\n",
    "    res = df\\\n",
    "        .drop(columns=['overview'])\\\n",
    "        .groupby(['company']).len.mean().reset_index()\\\n",
    "        .query('len == len.max()')\\\n",
    "        .company.to_string(index=False)\n",
    "    print(res)\n",
    "\n",
    "\n",
    "q25(data)"
   ]
  },
  {
   "cell_type": "markdown",
   "metadata": {
    "colab_type": "text",
    "id": "FJ1AFt90VqAP"
   },
   "source": [
    "# 26. Какие фильмы входят в 1 процент лучших по рейтингу? \n",
    "по vote_average"
   ]
  },
  {
   "cell_type": "code",
   "execution_count": null,
   "metadata": {},
   "outputs": [],
   "source": [
    "answers['26'] = 'Inside Out, The Dark Knight, 12 Years a Slave' # +"
   ]
  },
  {
   "cell_type": "code",
   "execution_count": 108,
   "metadata": {
    "colab": {},
    "colab_type": "code",
    "id": "8qmJVq4CVqAQ"
   },
   "outputs": [
    {
     "name": "stdout",
     "output_type": "stream",
     "text": [
      "['The Dark Knight', 'Interstellar', 'The Imitation Game', 'Inside Out', 'Room', 'The Wolf of Wall Street', 'Gone Girl', '12 Years a Slave', 'Guardians of the Galaxy', 'The Lord of the Rings: The Return of the King', 'Memento', 'Inception', 'The Pianist', 'The Grand Budapest Hotel', 'Her', 'Spotlight', 'Big Hero 6', 'The Fault in Our Stars']\n"
     ]
    }
   ],
   "source": [
    "def q26(data):\n",
    "    df = data.loc[:, ['original_title', 'vote_average']]\n",
    "    df.columns = ['title', 'rate']\n",
    "    df = df.sort_values(['rate'], ascending=False)\\\n",
    "        .head(int(math.floor(df.title.count() * 0.01))).reset_index()\n",
    "\n",
    "    res = df.title.tolist()\n",
    "    print(res)\n",
    "\n",
    "\n",
    "q26(data)"
   ]
  },
  {
   "cell_type": "markdown",
   "metadata": {
    "colab_type": "text",
    "id": "MdXsUXbCVqAV"
   },
   "source": [
    "# 27. Какие актеры чаще всего снимаются в одном фильме вместе?\n"
   ]
  },
  {
   "cell_type": "code",
   "execution_count": null,
   "metadata": {},
   "outputs": [],
   "source": [
    "answers['27'] = 'Daniel Radcliffe & Rupert Grint' # +"
   ]
  },
  {
   "cell_type": "code",
   "execution_count": 110,
   "metadata": {},
   "outputs": [
    {
     "name": "stdout",
     "output_type": "stream",
     "text": [
      "0    (Daniel Radcliffe, Rupert Grint)\n",
      "1     (Daniel Radcliffe, Emma Watson)\n",
      "Name: actors, dtype: object\n"
     ]
    }
   ],
   "source": [
    "def q27(data):\n",
    "    df = pd.DataFrame(\n",
    "        data['cast']\n",
    "        .str.split('|')\n",
    "        .apply(lambda cast: list(itertools.combinations(cast, 2)))\n",
    "        .tolist()\n",
    "    )\\\n",
    "        .stack().reset_index()\\\n",
    "        [0].value_counts().reset_index()\n",
    "\n",
    "    df.columns = ['actors', 'count']\n",
    "    df = df.query('count == count.max()').actors\n",
    "    \n",
    "    print(df)\n",
    "\n",
    "\n",
    "q27(data)\n"
   ]
  },
  {
   "cell_type": "markdown",
   "metadata": {
    "colab_type": "text",
    "id": "U0nONFnGVqAX"
   },
   "source": [
    "# Submission"
   ]
  },
  {
   "cell_type": "code",
   "execution_count": 0,
   "metadata": {
    "colab": {},
    "colab_type": "code",
    "id": "IfcaRO9-VqAX",
    "outputId": "0f132912-32bb-4196-c98c-abfbc4ad5a5f"
   },
   "outputs": [
    {
     "data": {
      "text/plain": [
       "{'1': '...', '2': '...'}"
      ]
     },
     "execution_count": 8,
     "metadata": {
      "tags": []
     },
     "output_type": "execute_result"
    }
   ],
   "source": [
    "# в конце можно посмотреть свои ответы к каждому вопросу\n",
    "answers"
   ]
  },
  {
   "cell_type": "code",
   "execution_count": 0,
   "metadata": {
    "colab": {},
    "colab_type": "code",
    "id": "SiRmHPl8VqAd"
   },
   "outputs": [],
   "source": [
    "# и убедиться что ни чего не пропустил)\n",
    "len(answers)"
   ]
  },
  {
   "cell_type": "code",
   "execution_count": 0,
   "metadata": {
    "colab": {},
    "colab_type": "code",
    "id": "uCfuTkRbVqAg"
   },
   "outputs": [],
   "source": []
  },
  {
   "cell_type": "code",
   "execution_count": 0,
   "metadata": {
    "colab": {},
    "colab_type": "code",
    "id": "Vwx3NrkSVqAl"
   },
   "outputs": [],
   "source": []
  }
 ],
 "metadata": {
  "colab": {
   "name": "Copy of [SF-DST] Movies IMBD v4.1 TEMPLATE.ipynb",
   "provenance": []
  },
  "kernelspec": {
   "display_name": "Python 3",
   "language": "python",
   "name": "python3"
  },
  "language_info": {
   "codemirror_mode": {
    "name": "ipython",
    "version": 2
   },
   "file_extension": ".py",
   "mimetype": "text/x-python",
   "name": "python",
   "nbconvert_exporter": "python",
   "pygments_lexer": "ipython2",
   "version": "2.7.17"
  }
 },
 "nbformat": 4,
 "nbformat_minor": 1
}
