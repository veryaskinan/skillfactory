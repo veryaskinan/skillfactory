{
 "cells": [
  {
   "cell_type": "code",
   "execution_count": 2,
   "metadata": {
    "collapsed": true
   },
   "outputs": [],
   "source": [
    "import pandas as pd\n",
    "from IPython.core.display import display\n",
    "\n",
    "df = pd.DataFrame({\n",
    "    'men': [80.2, 80.8, 57.5, 98, 50.5, 73.8, 77.4, 59.7, 77.9, 52.6],\n",
    "    'women': [57.9, 57.3, 72.8, 48.2, 59.5, 48.3, 61.2, 53.9, 53.9, 70.7]\n",
    "})"
   ]
  },
  {
   "cell_type": "code",
   "execution_count": 3,
   "outputs": [
    {
     "data": {
      "text/plain": "70.84"
     },
     "execution_count": 3,
     "metadata": {},
     "output_type": "execute_result"
    }
   ],
   "source": [
    "mean_men = df['men'].mean()\n",
    "mean_men"
   ],
   "metadata": {
    "collapsed": false,
    "pycharm": {
     "name": "#%%\n"
    }
   }
  },
  {
   "cell_type": "code",
   "execution_count": 4,
   "outputs": [
    {
     "data": {
      "text/plain": "58.370000000000005"
     },
     "execution_count": 4,
     "metadata": {},
     "output_type": "execute_result"
    }
   ],
   "source": [
    "mean_women = df['women'].mean()\n",
    "mean_women"
   ],
   "metadata": {
    "collapsed": false,
    "pycharm": {
     "name": "#%%\n"
    }
   }
  },
  {
   "cell_type": "code",
   "execution_count": 5,
   "outputs": [
    {
     "data": {
      "text/plain": "12.5"
     },
     "execution_count": 5,
     "metadata": {},
     "output_type": "execute_result"
    }
   ],
   "source": [
    "round(mean_men - mean_women, 1)"
   ],
   "metadata": {
    "collapsed": false,
    "pycharm": {
     "name": "#%%\n"
    }
   }
  },
  {
   "cell_type": "code",
   "execution_count": 9,
   "outputs": [
    {
     "data": {
      "text/plain": "3.5"
     },
     "metadata": {},
     "output_type": "display_data"
    },
    {
     "data": {
      "text/plain": "5.0"
     },
     "metadata": {},
     "output_type": "display_data"
    },
    {
     "data": {
      "text/plain": "1.5"
     },
     "metadata": {},
     "output_type": "display_data"
    }
   ],
   "source": [
    "n1 = pd.Series([2, 7, 4, 3, 4, 6, 1, 2])\n",
    "n2 = pd.Series([5, 2, 4, 8, 1, 6, 7])\n",
    "\n",
    "\n",
    "median1 = n1.median()\n",
    "median2 = n2.median()\n",
    "\n",
    "difference = median2 - median1\n",
    "\n",
    "display(median1, median2, difference)"
   ],
   "metadata": {
    "collapsed": false,
    "pycharm": {
     "name": "#%%\n"
    }
   }
  },
  {
   "cell_type": "code",
   "execution_count": 10,
   "outputs": [
    {
     "name": "stdout",
     "output_type": "stream",
     "text": [
      "Men's median weight: 75.6\n",
      "Women's median weight: 57.599999999999994\n",
      "All patient's median weight: 59.6\n"
     ]
    }
   ],
   "source": [
    "df = pd.DataFrame({\n",
    "    'men': [80.2, 80.8, 57.5, 98, 50.5, 73.8, 77.4, 59.7, 77.9, 52.6],\n",
    "    'women': [57.9, 57.3, 72.8, 48.2, 59.5, 48.3, 61.2, 53.9, 53.9, 70.7]\n",
    "})\n",
    "\n",
    "all = df.men.append(df.women)\n",
    "\n",
    "mm = df.men.median()\n",
    "mw = df.women.median()\n",
    "ma = all.median()\n",
    "\n",
    "print(\"Men's median weight:\", mm)\n",
    "print(\"Women's median weight:\", mw)\n",
    "print(\"All patient's median weight:\", ma)"
   ],
   "metadata": {
    "collapsed": false,
    "pycharm": {
     "name": "#%%\n"
    }
   }
  },
  {
   "cell_type": "code",
   "execution_count": 13,
   "outputs": [
    {
     "data": {
      "text/plain": "mens      58.6\nwomens    53.9\nName: 0.25, dtype: float64"
     },
     "metadata": {},
     "output_type": "display_data"
    },
    {
     "data": {
      "text/plain": "mens      78.95\nwomens    60.35\nName: 0.75, dtype: float64"
     },
     "metadata": {},
     "output_type": "display_data"
    }
   ],
   "source": [
    "df = pd.DataFrame({\n",
    "    'mens': [80, 80.8, 57.5, 98, 50.5, 73.8, 77.4, 59.7, 77.9, 52.6],\n",
    "    'womens': [57.9, 57.3, 72.8, 48.2, 59.5, 48.3, 61.2, 53.9, 53.9, 70.7]\n",
    "})\n",
    "display(\n",
    "    df.quantile(q=0.25, axis=0, numeric_only=True, interpolation='midpoint'),\n",
    "    df.quantile(q=0.75, axis=0, numeric_only=True, interpolation='midpoint')\n",
    ")"
   ],
   "metadata": {
    "collapsed": false,
    "pycharm": {
     "name": "#%%\n"
    }
   }
  },
  {
   "cell_type": "code",
   "execution_count": 24,
   "outputs": [
    {
     "name": "stdout",
     "output_type": "stream",
     "text": [
      "Men:\n",
      "range = 47.5\n",
      "IQR = 20.5\n",
      "std = 15.2\n",
      "var = 230.5\n",
      "outliers (left):  []\n",
      "outliers (right):  []\n",
      "\n",
      "Women:\n",
      "range = 24.6\n",
      "IQR = 6.5\n",
      "std = 8.3\n",
      "var = 68.4\n",
      "outliers (left):  []\n",
      "outliers (right):  [72.8, 70.7]\n"
     ]
    }
   ],
   "source": [
    "df = pd.DataFrame({\n",
    "    'men': [80.2, 80.8, 57.5, 98, 50.5, 73.8, 77.4, 59.7, 77.9, 52.6],\n",
    "    'women': [57.9, 57.3, 72.8, 48.2, 59.5, 48.3, 61.2, 53.9, 53.9, 70.7]\n",
    "})\n",
    "\n",
    "men_range = df.men.max() - df.men.min()\n",
    "men_q1 = df.men.quantile(q=0.25, interpolation='midpoint')\n",
    "men_q3 = df.men.quantile(q=0.75, interpolation='midpoint')\n",
    "men_iqr = men_q3 - men_q1\n",
    "men_std = df.men.std()\n",
    "men_var = df.men.var()\n",
    "men_outliers_range_left = men_q1 - men_iqr * 1.5\n",
    "men_outliers_range_right = men_q3 + men_iqr * 1.5\n",
    "men_outliers_left = df.men[(df.men < men_outliers_range_left)]\n",
    "men_outliers_right = df.men[(df.men > men_outliers_range_right)]\n",
    "\n",
    "women_range = df.women.max() - df.women.min()\n",
    "women_q1 = df.women.quantile(q=0.25, interpolation='midpoint')\n",
    "women_q3 = df.women.quantile(q=0.75, interpolation='midpoint')\n",
    "women_iqr = women_q3 - women_q1\n",
    "women_std = df.women.std()\n",
    "women_var = df.women.var()\n",
    "women_outliers_range_left = women_q1 - women_iqr * 1.5\n",
    "women_outliers_range_right = women_q3 + women_iqr * 1.5\n",
    "women_outliers_left = df.women[(df.women < women_outliers_range_left)]\n",
    "women_outliers_right = df.women[(df.women > women_outliers_range_right)]\n",
    "\n",
    "print(\"Men:\")\n",
    "print(\"range =\", round(men_range, 1))\n",
    "print(\"IQR =\", round(men_iqr, 1))\n",
    "print(\"std =\", round(men_std, 1))\n",
    "print(\"var =\", round(men_var, 1))\n",
    "print(\"outliers (left): \", men_outliers_left.tolist())\n",
    "print(\"outliers (right): \", men_outliers_right.tolist())\n",
    "print()\n",
    "print(\"Women:\")\n",
    "print(\"range =\", round(women_range, 1))\n",
    "print(\"IQR =\", round(women_iqr, 1))\n",
    "print(\"std =\", round(women_std, 1))\n",
    "print(\"var =\", round(women_var, 1))\n",
    "print(\"outliers (left): \", women_outliers_left.tolist())\n",
    "print(\"outliers (right): \", women_outliers_right.tolist())"
   ],
   "metadata": {
    "collapsed": false,
    "pycharm": {
     "name": "#%%\n"
    }
   }
  },
  {
   "cell_type": "code",
   "execution_count": 53,
   "outputs": [
    {
     "name": "stdout",
     "output_type": "stream",
     "text": [
      "Mean: -6.1\n",
      "Standard deviation: 2.3\n",
      "Median: -6.0\n",
      "Range: 9.0\n",
      "IQR: 1.6\n",
      "\n",
      "Outliers:\n"
     ]
    },
    {
     "data": {
      "text/plain": "   year  temp\n8  2015 -12.1",
      "text/html": "<div>\n<style scoped>\n    .dataframe tbody tr th:only-of-type {\n        vertical-align: middle;\n    }\n\n    .dataframe tbody tr th {\n        vertical-align: top;\n    }\n\n    .dataframe thead th {\n        text-align: right;\n    }\n</style>\n<table border=\"1\" class=\"dataframe\">\n  <thead>\n    <tr style=\"text-align: right;\">\n      <th></th>\n      <th>year</th>\n      <th>temp</th>\n    </tr>\n  </thead>\n  <tbody>\n    <tr>\n      <th>8</th>\n      <td>2015</td>\n      <td>-12.1</td>\n    </tr>\n  </tbody>\n</table>\n</div>"
     },
     "metadata": {},
     "output_type": "display_data"
    }
   ],
   "source": [
    "df = pd.DataFrame({\n",
    "    'year': [2007, 2008, 2009, 2010, 2011, 2012, 2013, 2014, 2015, 2016, 2017, 2018],\n",
    "    'temp': [-4.7, -6.1, -5.5, -3.3, -7.1, -3.1, -5.2, -7.3, -12.1, -6.6, -5.9, -6.3]\n",
    "})\n",
    "\n",
    "describe = df.describe()['temp']\n",
    "\n",
    "mean = round(describe['mean'], 1)\n",
    "std = round(describe['std'], 1)\n",
    "range = round(describe['max'] - describe['min'], 1)\n",
    "IQR = round(describe['75%'] - describe['25%'], 1)\n",
    "\n",
    "otliers_range_left = describe['25%'] - IQR * 1.5\n",
    "outliers = df[df['temp'] < otliers_range_left]\n",
    "\n",
    "print(\"Mean:\", mean)\n",
    "print(\"Standard deviation:\", std)\n",
    "print(\"Median:\", describe['50%'])\n",
    "print(\"Range:\", range)\n",
    "print(\"IQR:\", IQR)\n",
    "print()\n",
    "print(\"Outliers:\")\n",
    "display(outliers)"
   ],
   "metadata": {
    "collapsed": false,
    "pycharm": {
     "name": "#%%\n"
    }
   }
  },
  {
   "cell_type": "code",
   "execution_count": 54,
   "outputs": [
    {
     "data": {
      "text/plain": "value    38.0\ndtype: float64"
     },
     "execution_count": 54,
     "metadata": {},
     "output_type": "execute_result"
    }
   ],
   "source": [
    "data = pd.DataFrame({\n",
    "  'value': [48, 44, 42.5, 40.5, 40.5, 39, 39, 38, 38, 38, 35, 33, 30.2, 30, 26, 19.3, 27, 21]\n",
    "})\n",
    "data.median(axis=0)"
   ],
   "metadata": {
    "collapsed": false,
    "pycharm": {
     "name": "#%%\n"
    }
   }
  },
  {
   "cell_type": "code",
   "execution_count": 58,
   "outputs": [
    {
     "data": {
      "text/plain": "<matplotlib.axes._subplots.AxesSubplot at 0x7f909c75b700>"
     },
     "execution_count": 58,
     "metadata": {},
     "output_type": "execute_result"
    },
    {
     "data": {
      "text/plain": "<Figure size 432x288 with 1 Axes>",
      "image/png": "[encoded data removed]"
     },
     "metadata": {
      "needs_background": "light"
     },
     "output_type": "display_data"
    }
   ],
   "source": [
    "import matplotlib\n",
    "df = pd.DataFrame({\n",
    "    'group_a': [72, 66, 63.75, 60.75, 60.75, 58.5, 58.25, 57, 57, 57, 52.5, 49.5, 45.3, 45, 39, 28.95, 40.5, 31.5, 49],\n",
    "    'group_b': [71, 72, 60, 50, 57, 77, 81, 58, 62, 61, 73, 74, 76, 65, 66, 67, 67, 67, 69]\n",
    "})\n",
    "df.boxplot()"
   ],
   "metadata": {
    "collapsed": false,
    "pycharm": {
     "name": "#%%\n"
    }
   }
  }
 ],
 "metadata": {
  "kernelspec": {
   "display_name": "Python 3",
   "language": "python",
   "name": "python3"
  },
  "language_info": {
   "codemirror_mode": {
    "name": "ipython",
    "version": 2
   },
   "file_extension": ".py",
   "mimetype": "text/x-python",
   "name": "python",
   "nbconvert_exporter": "python",
   "pygments_lexer": "ipython2",
   "version": "2.7.6"
  }
 },
 "nbformat": 4,
 "nbformat_minor": 0
}